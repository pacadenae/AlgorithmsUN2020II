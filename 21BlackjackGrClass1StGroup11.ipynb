{
  "nbformat": 4,
  "nbformat_minor": 0,
  "metadata": {
    "colab": {
      "name": "21BlackjackGrClass1StGroup11.ipynb",
      "provenance": [],
      "collapsed_sections": []
    },
    "kernelspec": {
      "name": "python3",
      "display_name": "Python 3"
    }
  },
  "cells": [
    {
      "cell_type": "markdown",
      "metadata": {
        "id": "K5qNWsGF3GTH"
      },
      "source": [
        "GRUPO 11 LAB 4\n"
      ]
    },
    {
      "cell_type": "markdown",
      "metadata": {
        "id": "2TASY0Wug3_b"
      },
      "source": [
        "**PUNTO 1**"
      ]
    },
    {
      "cell_type": "code",
      "metadata": {
        "id": "EvdV5I6teHmw",
        "outputId": "701fe77f-93df-4e15-8ecc-a86142c68574",
        "colab": {
          "base_uri": "https://localhost:8080/",
          "height": 34
        }
      },
      "source": [
        "import random \n",
        "import numpy as np\n",
        "import matplotlib.pyplot as plt\n",
        "\n",
        "\"\"\"Baraja Española\"\"\"\n",
        "n=10000000\n",
        "count = 0\n",
        "contc= 0\n",
        "for i in range(n):\n",
        "  bar = [1,2,3,4,5,6,7,8,9,10,11,12,1,2,3,4,5,6,7,8,9,10,11,12,1,2,3,4,5,6,7,8,9,10,11,12,1,2,3,4,5,6,7,8,9,10,11,12]\n",
        "  mano=[]\n",
        "  while (sum(mano)<21):\n",
        "    carta= random.choice(bar)\n",
        "    mano.append(carta)\n",
        "    bar.remove(carta)\n",
        "  if (sum(mano)==21):\n",
        "    count = count + 1\n",
        "    contc = contc + len(mano)\n",
        "\n",
        "print(\"La probabiliad de obtener 21 es\", count/n, \"La cantidad promedio de cartas necesarias es :\", contc/count)\n"
      ],
      "execution_count": null,
      "outputs": [
        {
          "output_type": "stream",
          "text": [
            "La probabiliad de obtener 21 es 0.1577347 La cantidad promedio de cartas necesarias es : 3.4162825300964212\n"
          ],
          "name": "stdout"
        }
      ]
    },
    {
      "cell_type": "code",
      "metadata": {
        "id": "7r-n2kXzY7cK",
        "outputId": "82b91030-73f4-4b5d-ea80-8444cb6a9580",
        "colab": {
          "base_uri": "https://localhost:8080/",
          "height": 333
        }
      },
      "source": [
        "import random \n",
        "import numpy as np\n",
        "import matplotlib.pyplot as plt\n",
        "\n",
        "\"\"\"Baraja Española\"\"\"\n",
        "n=10000\n",
        "count = 0\n",
        "contc= 0\n",
        "cantC=[]\n",
        "for i in range(n):\n",
        "  bar = [1,2,3,4,5,6,7,8,9,10,11,12,1,2,3,4,5,6,7,8,9,10,11,12,1,2,3,4,5,6,7,8,9,10,11,12,1,2,3,4,5,6,7,8,9,10,11,12]\n",
        "  mano=[]\n",
        "  while (sum(mano)<21):\n",
        "    carta= random.choice(bar)\n",
        "    mano.append(carta)\n",
        "    bar.remove(carta)\n",
        "  if (sum(mano)==21):\n",
        "    count = count + 1\n",
        "    contc = contc + len(mano)\n",
        "    cantC.append(len(mano))\n",
        "\n",
        "print(\"La probabiliad de obtener 21 es\", count/n, \"La cantidad promedio de cartas necesarias es :\", contc/count)\n",
        "\n",
        "num_bins=max(cantC)-min(cantC)\n",
        "plt.hist(cantC,num_bins,facecolor='green')"
      ],
      "execution_count": null,
      "outputs": [
        {
          "output_type": "stream",
          "text": [
            "La probabiliad de obtener 21 es 0.153 La cantidad promedio de cartas necesarias es : 3.437254901960784\n"
          ],
          "name": "stdout"
        },
        {
          "output_type": "execute_result",
          "data": {
            "text/plain": [
              "(array([243., 628., 451., 168.,  40.]),\n",
              " array([2., 3., 4., 5., 6., 7.]),\n",
              " <a list of 5 Patch objects>)"
            ]
          },
          "metadata": {
            "tags": []
          },
          "execution_count": 3
        },
        {
          "output_type": "display_data",
          "data": {
            "image/png": "[encoded data removed]",
            "text/plain": [
              "<Figure size 432x288 with 1 Axes>"
            ]
          },
          "metadata": {
            "tags": [],
            "needs_background": "light"
          }
        }
      ]
    },
    {
      "cell_type": "code",
      "metadata": {
        "id": "GNy8wJS8eocF",
        "outputId": "526f2352-9e78-4ede-9170-763bfe565712",
        "colab": {
          "base_uri": "https://localhost:8080/",
          "height": 34
        }
      },
      "source": [
        "import random \n",
        "import matplotlib.pyplot as plt\n",
        "import numpy as np\n",
        "\n",
        "\"\"\"Baraja de Poker\"\"\"\n",
        "n=10000000\n",
        "count = 0\n",
        "contc= 0\n",
        "for i in range(n):\n",
        "  bar = [1,2,3,4,5,6,7,8,9,10,11,12,13,1,2,3,4,5,6,7,8,9,10,11,12,13,1,2,3,4,5,6,7,8,9,10,11,12,13,1,2,3,4,5,6,7,8,9,10,11,12,13]\n",
        "  mano=[]\n",
        "  while (sum(mano)<21):\n",
        "    carta= random.choice(bar)\n",
        "    mano.append(carta)\n",
        "    bar.remove(carta)\n",
        "  if (sum(mano)==21):\n",
        "    count = count +1\n",
        "    contc=contc + len(mano)\n",
        "\n",
        "print(\"La probabiliad de obtener 21 es\", count/n, \"La cantidad promedio de cartas necesarias es :\", contc/count)\n"
      ],
      "execution_count": null,
      "outputs": [
        {
          "output_type": "stream",
          "text": [
            "La probabiliad de obtener 21 es 0.1446032 La cantidad promedio de cartas necesarias es : 3.2155623112074974\n"
          ],
          "name": "stdout"
        }
      ]
    },
    {
      "cell_type": "code",
      "metadata": {
        "id": "eQL4aBaofU6X",
        "outputId": "8754bb14-43c0-4338-b15b-b1d63971269e",
        "colab": {
          "base_uri": "https://localhost:8080/",
          "height": 333
        }
      },
      "source": [
        "import random \n",
        "import matplotlib.pyplot as plt\n",
        "import numpy as np\n",
        "\n",
        "\"\"\"Baraja de Poker\"\"\"\n",
        "n=10000\n",
        "count = 0\n",
        "contc= 0\n",
        "cantC=[]\n",
        "for i in range(n):\n",
        "  bar = [1,2,3,4,5,6,7,8,9,10,11,12,13,1,2,3,4,5,6,7,8,9,10,11,12,13,1,2,3,4,5,6,7,8,9,10,11,12,13,1,2,3,4,5,6,7,8,9,10,11,12,13]\n",
        "  mano=[]\n",
        "  while (sum(mano)<21):\n",
        "    carta= random.choice(bar)\n",
        "    mano.append(carta)\n",
        "    bar.remove(carta)\n",
        "  if (sum(mano)==21):\n",
        "    count = count +1\n",
        "    contc=contc + len(mano)\n",
        "    cantC.append(len(mano))\n",
        "\n",
        "\n",
        "print(\"La probabiliad de obtener 21 es\", count/n, \"La cantidad promedio de cartas necesarias es :\", contc/count)\n",
        "\n",
        "num_bins=max(cantC)-min(cantC)\n",
        "plt.hist(cantC,num_bins,facecolor='red')\n"
      ],
      "execution_count": null,
      "outputs": [
        {
          "output_type": "stream",
          "text": [
            "La probabiliad de obtener 21 es 0.1398 La cantidad promedio de cartas necesarias es : 3.168097281831187\n"
          ],
          "name": "stdout"
        },
        {
          "output_type": "execute_result",
          "data": {
            "text/plain": [
              "(array([386., 557., 317., 115.,  23.]),\n",
              " array([2., 3., 4., 5., 6., 7.]),\n",
              " <a list of 5 Patch objects>)"
            ]
          },
          "metadata": {
            "tags": []
          },
          "execution_count": 5
        },
        {
          "output_type": "display_data",
          "data": {
            "image/png": "[encoded data removed]",
            "text/plain": [
              "<Figure size 432x288 with 1 Axes>"
            ]
          },
          "metadata": {
            "tags": [],
            "needs_background": "light"
          }
        }
      ]
    },
    {
      "cell_type": "markdown",
      "metadata": {
        "id": "jzk7_slig-0F"
      },
      "source": [
        "**PUNTO 2**"
      ]
    },
    {
      "cell_type": "code",
      "metadata": {
        "id": "Htp5s9r63nHz",
        "outputId": "57a546ee-9f12-4481-c528-6bbeb7eeeedb",
        "colab": {
          "base_uri": "https://localhost:8080/",
          "height": 34
        }
      },
      "source": [
        "import random\n",
        "import matplotlib.pyplot as plt \n",
        "import numpy as np\n",
        "\n",
        "\"\"\"Baraja Española\"\"\"\n",
        "n=10000000\n",
        "count = 0\n",
        "contc= 0\n",
        "for i in range(n):\n",
        "  bar = [1,2,3,4,5,6,7,8,9,10,10,10,1,2,3,4,5,6,7,8,9,10,10,10,1,2,3,4,5,6,7,8,9,10,10,10,1,2,3,4,5,6,7,8,9,10,10,10]\n",
        "  mano=[]\n",
        "  while (sum(mano)<21):\n",
        "    carta= random.choice(bar)\n",
        "    mano.append(carta)\n",
        "    bar.remove(carta)\n",
        "  if (sum(mano)==21):\n",
        "    count = count +1\n",
        "    contc = contc + len(mano)\n",
        "\n",
        "print(\"La probabiliad de obtener 21 es\", count/n, \"La cantidad promedio de cartas necesarias es :\", contc/count)\n"
      ],
      "execution_count": null,
      "outputs": [
        {
          "output_type": "stream",
          "text": [
            "La probabiliad de obtener 21 es 0.1497894 La cantidad promedio de cartas necesarias es : 3.6989573360998844\n"
          ],
          "name": "stdout"
        }
      ]
    },
    {
      "cell_type": "code",
      "metadata": {
        "id": "YyTk8kxAR6zW",
        "outputId": "28bd0e9d-666d-4ae5-daae-2913e47a9432",
        "colab": {
          "base_uri": "https://localhost:8080/",
          "height": 333
        }
      },
      "source": [
        "import random\n",
        "import matplotlib.pyplot as plt \n",
        "import numpy as np\n",
        "\n",
        "\"\"\"Baraja Española\"\"\"\n",
        "n=10000\n",
        "count = 0\n",
        "contc= 0\n",
        "cantC=[]\n",
        "for i in range(n):\n",
        "  bar = [1,2,3,4,5,6,7,8,9,10,10,10,1,2,3,4,5,6,7,8,9,10,10,10,1,2,3,4,5,6,7,8,9,10,10,10,1,2,3,4,5,6,7,8,9,10,10,10]\n",
        "  mano=[]\n",
        "  while (sum(mano)<21):\n",
        "    carta= random.choice(bar)\n",
        "    mano.append(carta)\n",
        "    bar.remove(carta)\n",
        "  if (sum(mano)==21):\n",
        "    count = count +1\n",
        "    contc = contc + len(mano)\n",
        "    cantC.append(len(mano))\n",
        "\n",
        "print(\"La probabiliad de obtener 21 es\", count/n, \"La cantidad promedio de cartas necesarias es :\", contc/count)\n",
        "\n",
        "num_bins=max(cantC)-min(cantC)\n",
        "plt.hist(cantC,num_bins,facecolor='yellow')"
      ],
      "execution_count": null,
      "outputs": [
        {
          "output_type": "stream",
          "text": [
            "La probabiliad de obtener 21 es 0.1503 La cantidad promedio de cartas necesarias es : 3.7112441783100465\n"
          ],
          "name": "stdout"
        },
        {
          "output_type": "execute_result",
          "data": {
            "text/plain": [
              "(array([749., 513., 181.,  47.,  13.]),\n",
              " array([3., 4., 5., 6., 7., 8.]),\n",
              " <a list of 5 Patch objects>)"
            ]
          },
          "metadata": {
            "tags": []
          },
          "execution_count": 7
        },
        {
          "output_type": "display_data",
          "data": {
            "image/png": "[encoded data removed]",
            "text/plain": [
              "<Figure size 432x288 with 1 Axes>"
            ]
          },
          "metadata": {
            "tags": [],
            "needs_background": "light"
          }
        }
      ]
    },
    {
      "cell_type": "code",
      "metadata": {
        "id": "fasBFsAF4API",
        "outputId": "e4112a3d-c340-4a91-db3f-37415812ff4e",
        "colab": {
          "base_uri": "https://localhost:8080/",
          "height": 34
        }
      },
      "source": [
        "import random \n",
        "import matplotlib.pyplot as plt\n",
        "import numpy as np\n",
        "\n",
        "\"\"\"Baraja de Poker\"\"\"\n",
        "n=10000000\n",
        "count = 0\n",
        "contc= 0\n",
        "for i in range(n):\n",
        "  bar = [1,2,3,4,5,6,7,8,9,10,10,10,10,1,2,3,4,5,6,7,8,9,10,10,10,10,1,2,3,4,5,6,7,8,9,10,10,10,10,1,2,3,4,5,6,7,8,9,10,10,10,10]\n",
        "  mano=[]\n",
        "  while (sum(mano)<21):\n",
        "    carta= random.choice(bar)\n",
        "    mano.append(carta)\n",
        "    bar.remove(carta)\n",
        "  if (sum(mano)==21):\n",
        "    \n",
        "    count = count +1\n",
        "    contc=contc + len(mano)\n",
        "\n",
        "print(\"La probabiliad de obtener 21 es\", count/n, \"La cantidad promedio de cartas necesarias es :\", contc/count)\n"
      ],
      "execution_count": null,
      "outputs": [
        {
          "output_type": "stream",
          "text": [
            "La probabiliad de obtener 21 es 0.1403189 La cantidad promedio de cartas necesarias es : 3.5777732009016603\n"
          ],
          "name": "stdout"
        }
      ]
    },
    {
      "cell_type": "code",
      "metadata": {
        "id": "1xxVsGXdg2jL",
        "outputId": "609db325-1e5b-4528-c708-b510c9fe7b42",
        "colab": {
          "base_uri": "https://localhost:8080/",
          "height": 333
        }
      },
      "source": [
        "import random \n",
        "import matplotlib.pyplot as plt\n",
        "import numpy as np\n",
        "\n",
        "\"\"\"Baraja de Poker\"\"\"\n",
        "n=10000\n",
        "count = 0\n",
        "contc= 0\n",
        "cantC=[]\n",
        "for i in range(n):\n",
        "  bar = [1,2,3,4,5,6,7,8,9,10,10,10,10,1,2,3,4,5,6,7,8,9,10,10,10,10,1,2,3,4,5,6,7,8,9,10,10,10,10,1,2,3,4,5,6,7,8,9,10,10,10,10]\n",
        "  mano=[]\n",
        "  while (sum(mano)<21):\n",
        "    carta= random.choice(bar)\n",
        "    mano.append(carta)\n",
        "    bar.remove(carta)\n",
        "  if (sum(mano)==21):\n",
        "    \n",
        "    count = count +1\n",
        "    contc=contc + len(mano)\n",
        "    cantC.append(len(mano))\n",
        "\n",
        "print(\"La probabiliad de obtener 21 es\", count/n, \"La cantidad promedio de cartas necesarias es :\", contc/count)\n",
        "\n",
        "num_bins=max(cantC)-min(cantC)\n",
        "plt.hist(cantC,num_bins,facecolor='blue')"
      ],
      "execution_count": null,
      "outputs": [
        {
          "output_type": "stream",
          "text": [
            "La probabiliad de obtener 21 es 0.1415 La cantidad promedio de cartas necesarias es : 3.552650176678445\n"
          ],
          "name": "stdout"
        },
        {
          "output_type": "execute_result",
          "data": {
            "text/plain": [
              "(array([826., 427., 137.,  20.,   5.]),\n",
              " array([3., 4., 5., 6., 7., 8.]),\n",
              " <a list of 5 Patch objects>)"
            ]
          },
          "metadata": {
            "tags": []
          },
          "execution_count": 8
        },
        {
          "output_type": "display_data",
          "data": {
            "image/png": "[encoded data removed]",
            "text/plain": [
              "<Figure size 432x288 with 1 Axes>"
            ]
          },
          "metadata": {
            "tags": [],
            "needs_background": "light"
          }
        }
      ]
    },
    {
      "cell_type": "markdown",
      "metadata": {
        "id": "cNGswBfhVu97"
      },
      "source": [
        "**PUNTO** **3**"
      ]
    },
    {
      "cell_type": "code",
      "metadata": {
        "id": "TWy2h-075tlS",
        "outputId": "ae3bfbaa-91d4-408a-cde7-5d0297814390",
        "colab": {
          "base_uri": "https://localhost:8080/",
          "height": 34
        }
      },
      "source": [
        "import random \n",
        "import numpy as np\n",
        "import matplotlib.pyplot as plt\n",
        "\n",
        "\"\"\"Baraja Española\"\"\"\n",
        "n=10000000\n",
        "count = 0\n",
        "contc= 0\n",
        "for i in range(n):\n",
        "  bar = [1,2,3,4,6,8,9,10,10,10,1,2,3,4,5,6,8,9,10,10,10,1,2,3,4,5,6,7,8,9,10,10,10,1,2,3,4,5,6,7,8,9,10,10,10]\n",
        "  mano=[7,7,5]\n",
        "  bar2=[]\n",
        "  for j in range(int(len(bar)/2)):\n",
        "    bar2.append(random.choice(bar))\n",
        "  while (sum(mano)<21):\n",
        "    carta= random.choice(bar2)\n",
        "    mano.append(carta)\n",
        "    bar2.remove(carta)\n",
        "  if (sum(mano)==21):\n",
        "    count = count + 1\n",
        "    contc = contc + len(mano)\n",
        "\n",
        "print(\"La probabiliad de obtener 21 es\", count/n, \"La cantidad promedio de cartas necesarias es :\", contc/count)\n"
      ],
      "execution_count": 1,
      "outputs": [
        {
          "output_type": "stream",
          "text": [
            "La probabiliad de obtener 21 es 0.0968305 La cantidad promedio de cartas necesarias es : 4.081727348304511\n"
          ],
          "name": "stdout"
        }
      ]
    },
    {
      "cell_type": "code",
      "metadata": {
        "id": "zyckic4HWnf3",
        "outputId": "5cc5e202-f8d3-44aa-ad43-ee5d99fc99b1",
        "colab": {
          "base_uri": "https://localhost:8080/",
          "height": 299
        }
      },
      "source": [
        "import random \n",
        "import numpy as np\n",
        "import matplotlib.pyplot as plt\n",
        "\n",
        "\"\"\"Baraja Española\"\"\"\n",
        "n=10000\n",
        "count = 0\n",
        "contc= 0\n",
        "cantC=[]\n",
        "for i in range(n):\n",
        "  bar = [1,2,3,4,6,8,9,10,10,10,1,2,3,4,5,6,8,9,10,10,10,1,2,3,4,5,6,7,8,9,10,10,10,1,2,3,4,5,6,7,8,9,10,10,10]\n",
        "  mano=[7,7,5]\n",
        "  bar2=[]\n",
        "  for j in range(int(len(bar)/2)):\n",
        "    bar2.append(random.choice(bar))\n",
        "  while (sum(mano)<21):\n",
        "    carta= random.choice(bar2)\n",
        "    mano.append(carta)\n",
        "    bar2.remove(carta)\n",
        "  if (sum(mano)==21):\n",
        "    count = count + 1\n",
        "    contc = contc + len(mano)\n",
        "    cantC.append(len(mano))\n",
        "\n",
        "print(\"La probabiliad de obtener 21 es\", count/n, \"La cantidad promedio de cartas necesarias es :\", contc/count)\n",
        "\n",
        "num_bins=max(cantC)-min(cantC)\n",
        "plt.hist(cantC,num_bins,facecolor='green')"
      ],
      "execution_count": 3,
      "outputs": [
        {
          "output_type": "stream",
          "text": [
            "La probabiliad de obtener 21 es 0.1002 La cantidad promedio de cartas necesarias es : 4.077844311377246\n"
          ],
          "name": "stdout"
        },
        {
          "output_type": "execute_result",
          "data": {
            "text/plain": [
              "(array([1002.]), array([4., 5.]), <a list of 1 Patch objects>)"
            ]
          },
          "metadata": {
            "tags": []
          },
          "execution_count": 3
        },
        {
          "output_type": "display_data",
          "data": {
            "image/png": "[encoded data removed]",
            "text/plain": [
              "<Figure size 432x288 with 1 Axes>"
            ]
          },
          "metadata": {
            "tags": [],
            "needs_background": "light"
          }
        }
      ]
    },
    {
      "cell_type": "code",
      "metadata": {
        "id": "-q8ZxCad56OX",
        "outputId": "5915732a-8d1d-4005-d1ba-cfc9e62424ea",
        "colab": {
          "base_uri": "https://localhost:8080/",
          "height": 34
        }
      },
      "source": [
        "import random \n",
        "import matplotlib.pyplot as plt\n",
        "import numpy as np\n",
        "\n",
        "\"\"\"Baraja de Poker\"\"\"\n",
        "n=10000000\n",
        "count = 0\n",
        "contc= 0\n",
        "for i in range(n):\n",
        "  bar = [1,2,3,4,6,8,9,10,10,10,10,1,2,3,4,5,6,8,9,10,10,10,10,1,2,3,4,5,6,7,8,9,10,10,10,10,1,2,3,4,5,6,7,8,9,10,10,10,10]\n",
        "  mano=[7,7,5]\n",
        "  bar2=[]\n",
        "  for i in range(int(len(bar)/2)):\n",
        "    bar2.append(random.choice(bar))\n",
        "  while (sum(mano)<21):\n",
        "    carta= random.choice(bar2)\n",
        "    mano.append(carta)\n",
        "    bar2.remove(carta)\n",
        "  if (sum(mano)==21):\n",
        "    count = count +1\n",
        "    contc=contc + len(mano)\n",
        "\n",
        "\n",
        "print(\"La probabiliad de obtener 21 es\", count/n, \"La cantidad promedio de cartas necesarias es :\", contc/count)\n"
      ],
      "execution_count": 4,
      "outputs": [
        {
          "output_type": "stream",
          "text": [
            "La probabiliad de obtener 21 es 0.0885458 La cantidad promedio de cartas necesarias es : 4.075394880389584\n"
          ],
          "name": "stdout"
        }
      ]
    },
    {
      "cell_type": "code",
      "metadata": {
        "id": "G9ZhuZYGYdKK",
        "outputId": "8290ae6d-5d30-4e2a-a241-94de0da0cb67",
        "colab": {
          "base_uri": "https://localhost:8080/",
          "height": 299
        }
      },
      "source": [
        "import random \n",
        "import matplotlib.pyplot as plt\n",
        "import numpy as np\n",
        "\n",
        "\"\"\"Baraja de Poker\"\"\"\n",
        "n=10000\n",
        "count = 0\n",
        "contc= 0\n",
        "cantC=[]\n",
        "for i in range(n):\n",
        "  bar = [1,2,3,4,6,8,9,10,10,10,10,1,2,3,4,5,6,8,9,10,10,10,10,1,2,3,4,5,6,7,8,9,10,10,10,10,1,2,3,4,5,6,7,8,9,10,10,10,10]\n",
        "  mano=[7,7,5]\n",
        "  bar2=[]\n",
        "  for i in range(int(len(bar)/2)):\n",
        "    bar2.append(random.choice(bar))\n",
        "  while (sum(mano)<21):\n",
        "    carta= random.choice(bar2)\n",
        "    mano.append(carta)\n",
        "    bar2.remove(carta)\n",
        "  if (sum(mano)==21):\n",
        "    count = count +1\n",
        "    contc=contc + len(mano)\n",
        "    cantC.append(len(mano))\n",
        "\n",
        "\n",
        "print(\"La probabiliad de obtener 21 es\", count/n, \"La cantidad promedio de cartas necesarias es :\", contc/count)\n",
        "\n",
        "num_bins=max(cantC)-min(cantC)\n",
        "plt.hist(cantC,num_bins,facecolor='red')\n"
      ],
      "execution_count": 5,
      "outputs": [
        {
          "output_type": "stream",
          "text": [
            "La probabiliad de obtener 21 es 0.082 La cantidad promedio de cartas necesarias es : 4.071951219512195\n"
          ],
          "name": "stdout"
        },
        {
          "output_type": "execute_result",
          "data": {
            "text/plain": [
              "(array([820.]), array([4., 5.]), <a list of 1 Patch objects>)"
            ]
          },
          "metadata": {
            "tags": []
          },
          "execution_count": 5
        },
        {
          "output_type": "display_data",
          "data": {
            "image/png": "[encoded data removed]",
            "text/plain": [
              "<Figure size 432x288 with 1 Axes>"
            ]
          },
          "metadata": {
            "tags": [],
            "needs_background": "light"
          }
        }
      ]
    },
    {
      "cell_type": "markdown",
      "metadata": {
        "id": "aSJErJ-bZQM4"
      },
      "source": [
        "**PUNTO** **4**"
      ]
    },
    {
      "cell_type": "code",
      "metadata": {
        "id": "9t5_SvdOJaTO",
        "outputId": "a568a9fd-00ad-4aa5-a1c7-eee3aefa2747",
        "colab": {
          "base_uri": "https://localhost:8080/",
          "height": 187
        }
      },
      "source": [
        "\"\"\"Cálculo analítico de las probabilidadaes\"\"\"\n",
        "\n",
        "hotdeck=[1,1,1,1,2,2,2,2,10,10,10,10]\n",
        "\n",
        "\"\"\"probabilidad de sacar un 2\"\"\"\n",
        "p = 4/12\n",
        "\"\"\"probabilidad de sacar dos 1 seguidos\"\"\"\n",
        "p2= 4/12*3/11\n",
        "print(\"probabilidad de sacar un 2 hot deck de 12 cartas\", p)\n",
        "print(\"probabilidad de sacar dos 1 seguidos hot deck de 12 cartas\", p2)\n",
        "print(\"probabilidad de ganar hot deck de 12 cartas\", p+p2)\n",
        "\n",
        "colddeck=[2,10,10,10,10,3,3,3,3,4,4,4]\n",
        "\n",
        "\"\"\"probabilidad de sacar un 2\"\"\"\n",
        "p = 1/12\n",
        "p1 = 2/12 * 1/11\n",
        "print(\"probabilidad de sacar un 2 cold deck de 12 cartas\", p)\n",
        "print(\"probabilidad de sacar dos 1 seguidos cold deck de 12 cartas\", p1)\n",
        "\n",
        "hotdeck=[1,1,1,1,2,2,2,2,10,10]\n",
        "\n",
        "\"\"\"probabilidad de sacar un 2\"\"\"\n",
        "p = 4/10\n",
        "\"\"\"probabilidad de sacar dos 1 seguidos\"\"\"\n",
        "p2= 4/10*3/9\n",
        "print(\"probabilidad de sacar un 2 hot deck de 10 cartas\", p)\n",
        "print(\"probabilidad de sacar dos 1 seguidos hot deck de 10 cartas\", p2)\n",
        "print(\"probabilidad de ganar hot deck de 10 cartas\", p+p2)\n",
        "\n",
        "colddeck=[2,10,10,10,10,3,3,3,3,4,4,4]\n",
        "\n",
        "\"\"\"probabilidad de sacar un 2\"\"\"\n",
        "p = 1/10\n",
        "p1 = 2/10 * 1/9\n",
        "print(\"probabilidad de sacar un 2 cold deck de 10 cartas\", p)\n",
        "print(\"probabilidad de sacar dos 1 seguidos cold deck de 10 cartas\", p1)\n"
      ],
      "execution_count": 11,
      "outputs": [
        {
          "output_type": "stream",
          "text": [
            "probabilidad de sacar un 2 hot deck de 12 cartas 0.3333333333333333\n",
            "probabilidad de sacar dos 1 seguidos hot deck de 12 cartas 0.09090909090909091\n",
            "probabilidad de ganar hot deck de 12 cartas 0.4242424242424242\n",
            "probabilidad de sacar un 2 cold deck de 12 cartas 0.08333333333333333\n",
            "probabilidad de sacar dos 1 seguidos cold deck de 12 cartas 0.01515151515151515\n",
            "probabilidad de sacar un 2 hot deck de 10 cartas 0.4\n",
            "probabilidad de sacar dos 1 seguidos hot deck de 10 cartas 0.13333333333333336\n",
            "probabilidad de ganar hot deck de 10 cartas 0.5333333333333334\n",
            "probabilidad de sacar un 2 cold deck de 10 cartas 0.1\n",
            "probabilidad de sacar dos 1 seguidos cold deck de 10 cartas 0.022222222222222223\n"
          ],
          "name": "stdout"
        }
      ]
    },
    {
      "cell_type": "code",
      "metadata": {
        "id": "SNhoDC9fIzAV",
        "outputId": "2cf194da-9fd9-4653-c789-ea514c83e6fe",
        "colab": {
          "base_uri": "https://localhost:8080/",
          "height": 34
        }
      },
      "source": [
        "import random \n",
        "import numpy as np\n",
        "import matplotlib.pyplot as plt\n",
        "\n",
        "\"\"\"Baraja Española   12 cartas restantes  hot deck\"\"\"\n",
        "n=10000000\n",
        "count = 0\n",
        "contc= 0\n",
        "for i in range(n):\n",
        "  bar = [3,4,6,8,9,10,10,10,3,4,5,6,8,9,10,10,10,3,4,5,6,7,8,9,10,10,10,3,4,5,6,7,8,9,10,10,10]\n",
        "  mano=[7,7,5]\n",
        "  bar2=[1,1,1,1,2,2,2,2]\n",
        "  for j in range(4):\n",
        "    bar2.append(random.choice(bar))\n",
        "  while (sum(mano)<21):\n",
        "    carta= random.choice(bar2)\n",
        "    mano.append(carta)\n",
        "    bar2.remove(carta)\n",
        "  if (sum(mano)==21):\n",
        "    count = count + 1\n",
        "    contc = contc + len(mano)\n",
        "\n",
        "print(\"La probabiliad de obtener 21 es\", count/n, \"La cantidad promedio de cartas necesarias es :\", contc/count)\n"
      ],
      "execution_count": 13,
      "outputs": [
        {
          "output_type": "stream",
          "text": [
            "La probabiliad de obtener 21 es 0.424403 La cantidad promedio de cartas necesarias es : 4.214114650461943\n"
          ],
          "name": "stdout"
        }
      ]
    },
    {
      "cell_type": "code",
      "metadata": {
        "id": "IefdJG-JcyTV",
        "outputId": "2bae7087-a32c-4ac1-a7f4-c8ae32e6d52e",
        "colab": {
          "base_uri": "https://localhost:8080/",
          "height": 299
        }
      },
      "source": [
        "import random \n",
        "import numpy as np\n",
        "import matplotlib.pyplot as plt\n",
        "\n",
        "\"\"\"Baraja Española   12 cartas restantes  hot deck\"\"\"\n",
        "n=10000\n",
        "count = 0\n",
        "contc= 0\n",
        "cantC=[]\n",
        "for i in range(n):\n",
        "  bar = [3,4,6,8,9,10,10,10,3,4,5,6,8,9,10,10,10,3,4,5,6,7,8,9,10,10,10,3,4,5,6,7,8,9,10,10,10]\n",
        "  mano=[7,7,5]\n",
        "  bar2=[1,1,1,1,2,2,2,2]\n",
        "  for j in range(4):\n",
        "    bar2.append(random.choice(bar))\n",
        "  while (sum(mano)<21):\n",
        "    carta= random.choice(bar2)\n",
        "    mano.append(carta)\n",
        "    bar2.remove(carta)\n",
        "  if (sum(mano)==21):\n",
        "    count = count + 1\n",
        "    contc = contc + len(mano)\n",
        "    cantC.append(len(mano))\n",
        "\n",
        "print(\"La probabiliad de obtener 21 es\", count/n, \"La cantidad promedio de cartas necesarias es :\", contc/count)\n",
        "\n",
        "num_bins=max(cantC)-min(cantC)\n",
        "plt.hist(cantC,num_bins,facecolor='red')"
      ],
      "execution_count": 14,
      "outputs": [
        {
          "output_type": "stream",
          "text": [
            "La probabiliad de obtener 21 es 0.4317 La cantidad promedio de cartas necesarias es : 4.212184387305999\n"
          ],
          "name": "stdout"
        },
        {
          "output_type": "execute_result",
          "data": {
            "text/plain": [
              "(array([4317.]), array([4., 5.]), <a list of 1 Patch objects>)"
            ]
          },
          "metadata": {
            "tags": []
          },
          "execution_count": 14
        },
        {
          "output_type": "display_data",
          "data": {
            "image/png": "[encoded data removed]",
            "text/plain": [
              "<Figure size 432x288 with 1 Axes>"
            ]
          },
          "metadata": {
            "tags": [],
            "needs_background": "light"
          }
        }
      ]
    },
    {
      "cell_type": "code",
      "metadata": {
        "id": "VOa4xlFyMvlp",
        "outputId": "32d1b7b3-9095-4544-8a42-9a79ffa7cfe6",
        "colab": {
          "base_uri": "https://localhost:8080/",
          "height": 34
        }
      },
      "source": [
        "import random \n",
        "import numpy as np\n",
        "import matplotlib.pyplot as plt\n",
        "\n",
        "\"\"\"Baraja Española 10 cartas restantes Hot\"\"\"\n",
        "n=10000000\n",
        "count = 0\n",
        "contc= 0\n",
        "for i in range(n):\n",
        "  bar = [3,4,6,8,9,10,10,10,3,4,5,6,8,9,10,10,10,3,4,5,6,7,8,9,10,10,10,3,4,5,6,7,8,9,10,10,10]\n",
        "  mano=[7,7,5]\n",
        "  bar2=[1,1,1,1,2,2,2,2]\n",
        "  for j in range(2):\n",
        "    bar2.append(random.choice(bar))\n",
        "  while (sum(mano)<21):\n",
        "    carta= random.choice(bar2)\n",
        "    mano.append(carta)\n",
        "    bar2.remove(carta)\n",
        "  if (sum(mano)==21):\n",
        "    count = count + 1\n",
        "    contc = contc + len(mano)\n",
        "\n",
        "print(\"La probabiliad de obtener 21 es\", count/n, \"La cantidad promedio de cartas necesarias es :\", contc/count)\n"
      ],
      "execution_count": 15,
      "outputs": [
        {
          "output_type": "stream",
          "text": [
            "La probabiliad de obtener 21 es 0.5336313 La cantidad promedio de cartas necesarias es : 4.249886953782509\n"
          ],
          "name": "stdout"
        }
      ]
    },
    {
      "cell_type": "code",
      "metadata": {
        "id": "V7AP1OZTd1WB",
        "outputId": "d3bee405-27f6-448b-dfd2-8943dcb0a97e",
        "colab": {
          "base_uri": "https://localhost:8080/",
          "height": 299
        }
      },
      "source": [
        "import random \n",
        "import numpy as np\n",
        "import matplotlib.pyplot as plt\n",
        "\n",
        "\"\"\"Baraja Española 10 cartas restantes Hot\"\"\"\n",
        "n=10000\n",
        "count = 0\n",
        "contc= 0\n",
        "cantC=[]\n",
        "for i in range(n):\n",
        "  bar = [3,4,6,8,9,10,10,10,3,4,5,6,8,9,10,10,10,3,4,5,6,7,8,9,10,10,10,3,4,5,6,7,8,9,10,10,10]\n",
        "  mano=[7,7,5]\n",
        "  bar2=[1,1,1,1,2,2,2,2]\n",
        "  for j in range(2):\n",
        "    bar2.append(random.choice(bar))\n",
        "  while (sum(mano)<21):\n",
        "    carta= random.choice(bar2)\n",
        "    mano.append(carta)\n",
        "    bar2.remove(carta)\n",
        "  if (sum(mano)==21):\n",
        "    count = count + 1\n",
        "    contc = contc + len(mano)\n",
        "    cantC.append(len(mano))\n",
        "\n",
        "print(\"La probabiliad de obtener 21 es\", count/n, \"La cantidad promedio de cartas necesarias es :\", contc/count)\n",
        "\n",
        "num_bins=max(cantC)-min(cantC)\n",
        "plt.hist(cantC,num_bins,facecolor='red')"
      ],
      "execution_count": 16,
      "outputs": [
        {
          "output_type": "stream",
          "text": [
            "La probabiliad de obtener 21 es 0.5366 La cantidad promedio de cartas necesarias es : 4.23984345881476\n"
          ],
          "name": "stdout"
        },
        {
          "output_type": "execute_result",
          "data": {
            "text/plain": [
              "(array([5366.]), array([4., 5.]), <a list of 1 Patch objects>)"
            ]
          },
          "metadata": {
            "tags": []
          },
          "execution_count": 16
        },
        {
          "output_type": "display_data",
          "data": {
            "image/png": "[encoded data removed]",
            "text/plain": [
              "<Figure size 432x288 with 1 Axes>"
            ]
          },
          "metadata": {
            "tags": [],
            "needs_background": "light"
          }
        }
      ]
    },
    {
      "cell_type": "code",
      "metadata": {
        "id": "mt5MvJUQNhPf",
        "outputId": "38c14cb7-983b-4698-e81a-136004cf836b",
        "colab": {
          "base_uri": "https://localhost:8080/",
          "height": 34
        }
      },
      "source": [
        "import random \n",
        "import numpy as np\n",
        "import matplotlib.pyplot as plt\n",
        "\n",
        "\"\"\"Baraja Española 12 cartas restantes Cold\"\"\"\n",
        "n=10000000\n",
        "count = 0\n",
        "contc= 0\n",
        "for i in range(n):\n",
        "  bar = [3,4,6,8,9,10,10,10,3,4,5,6,8,9,10,10,10,3,4,5,6,7,8,9,10,10,10,3,4,5,6,7,8,9,10,10,10]\n",
        "  mano=[7,7,5]\n",
        "  bar2=[1,1]\n",
        "  for j in range(10):\n",
        "    bar2.append(random.choice(bar))\n",
        "  while (sum(mano)<21):\n",
        "    carta= random.choice(bar2)\n",
        "    mano.append(carta)\n",
        "    bar2.remove(carta)\n",
        "  if (sum(mano)==21):\n",
        "    count = count + 1\n",
        "    contc = contc + len(mano)\n",
        "\n",
        "print(\"La probabiliad de obtener 21 es\", count/n, \"La cantidad promedio de cartas necesarias es :\", contc/count)\n"
      ],
      "execution_count": 18,
      "outputs": [
        {
          "output_type": "stream",
          "text": [
            "La probabiliad de obtener 21 es 0.0151334 La cantidad promedio de cartas necesarias es : 5.0\n"
          ],
          "name": "stdout"
        }
      ]
    },
    {
      "cell_type": "code",
      "metadata": {
        "id": "wc2Ntm4-DW7F",
        "outputId": "7c34c520-232c-480b-ec77-596036392fca",
        "colab": {
          "base_uri": "https://localhost:8080/",
          "height": 299
        }
      },
      "source": [
        "import random \n",
        "import numpy as np\n",
        "import matplotlib.pyplot as plt\n",
        "\n",
        "\"\"\"Baraja Española 12 cartas restantes Cold\"\"\"\n",
        "n=10000\n",
        "count = 0\n",
        "contc= 0\n",
        "cantC=[]\n",
        "for i in range(n):\n",
        "  bar = [3,4,6,8,9,10,10,10,3,4,5,6,8,9,10,10,10,3,4,5,6,7,8,9,10,10,10,3,4,5,6,7,8,9,10,10,10]\n",
        "  mano=[7,7,5]\n",
        "  bar2=[1,1]\n",
        "  for j in range(10):\n",
        "    bar2.append(random.choice(bar))\n",
        "  while (sum(mano)<21):\n",
        "    carta= random.choice(bar2)\n",
        "    mano.append(carta)\n",
        "    bar2.remove(carta)\n",
        "  if (sum(mano)==21):\n",
        "    count = count + 1\n",
        "    contc = contc + len(mano)\n",
        "    cantC.append(len(mano))\n",
        "\n",
        "print(\"La probabiliad de obtener 21 es\", count/n, \"La cantidad promedio de cartas necesarias es :\", contc/count)\n",
        "\n",
        "num_bins=1\n",
        "plt.hist(cantC,num_bins,facecolor='blue', density=True)"
      ],
      "execution_count": 20,
      "outputs": [
        {
          "output_type": "stream",
          "text": [
            "La probabiliad de obtener 21 es 0.0138 La cantidad promedio de cartas necesarias es : 5.0\n"
          ],
          "name": "stdout"
        },
        {
          "output_type": "execute_result",
          "data": {
            "text/plain": [
              "(array([1.]), array([4.5, 5.5]), <a list of 1 Patch objects>)"
            ]
          },
          "metadata": {
            "tags": []
          },
          "execution_count": 20
        },
        {
          "output_type": "display_data",
          "data": {
            "image/png": "[encoded data removed]",
            "text/plain": [
              "<Figure size 432x288 with 1 Axes>"
            ]
          },
          "metadata": {
            "tags": [],
            "needs_background": "light"
          }
        }
      ]
    },
    {
      "cell_type": "code",
      "metadata": {
        "id": "8IKpq6H1DZq0",
        "outputId": "03990b0b-f6e1-4ab0-e1de-9a6e01d6ae04",
        "colab": {
          "base_uri": "https://localhost:8080/",
          "height": 34
        }
      },
      "source": [
        "import random \n",
        "import numpy as np\n",
        "import matplotlib.pyplot as plt\n",
        "\n",
        "\"\"\"Baraja Española 10 cartas restantes Cold\"\"\"\n",
        "n=10000000\n",
        "count = 0\n",
        "contc= 0\n",
        "for i in range(n):\n",
        "  bar = [3,4,6,8,9,10,10,10,3,4,5,6,8,9,10,10,10,3,4,5,6,7,8,9,10,10,10,3,4,5,6,7,8,9,10,10,10]\n",
        "  mano=[7,7,5]\n",
        "  bar2=[1,1]\n",
        "  for j in range(8):\n",
        "    bar2.append(random.choice(bar))\n",
        "  while (sum(mano)<21):\n",
        "    carta= random.choice(bar2)\n",
        "    mano.append(carta)\n",
        "    bar2.remove(carta)\n",
        "  if (sum(mano)==21):\n",
        "    count = count + 1\n",
        "    contc = contc + len(mano)\n",
        "\n",
        "print(\"La probabiliad de obtener 21 es\", count/n, \"La cantidad promedio de cartas necesarias es :\", contc/count)\n"
      ],
      "execution_count": 21,
      "outputs": [
        {
          "output_type": "stream",
          "text": [
            "La probabiliad de obtener 21 es 0.0222547 La cantidad promedio de cartas necesarias es : 5.0\n"
          ],
          "name": "stdout"
        }
      ]
    },
    {
      "cell_type": "code",
      "metadata": {
        "id": "LwLnKulMPtoT",
        "outputId": "d757ec7d-ae36-4a4c-bd7a-3bff60b8f971",
        "colab": {
          "base_uri": "https://localhost:8080/",
          "height": 299
        }
      },
      "source": [
        "import random \n",
        "import numpy as np\n",
        "import matplotlib.pyplot as plt\n",
        "\n",
        "\"\"\"Baraja Española 10 cartas restantes Cold\"\"\"\n",
        "n=10000\n",
        "count = 0\n",
        "contc= 0\n",
        "cantC=[]\n",
        "for i in range(n):\n",
        "  bar = [3,4,6,8,9,10,10,10,3,4,5,6,8,9,10,10,10,3,4,5,6,7,8,9,10,10,10,3,4,5,6,7,8,9,10,10,10]\n",
        "  mano=[7,7,5]\n",
        "  bar2=[1,1]\n",
        "  for j in range(8):\n",
        "    bar2.append(random.choice(bar))\n",
        "  while (sum(mano)<21):\n",
        "    carta= random.choice(bar2)\n",
        "    mano.append(carta)\n",
        "    bar2.remove(carta)\n",
        "  if (sum(mano)==21):\n",
        "    count = count + 1\n",
        "    contc = contc + len(mano)\n",
        "    cantC.append(len(mano))\n",
        "\n",
        "print(\"La probabiliad de obtener 21 es\", count/n, \"La cantidad promedio de cartas necesarias es :\", contc/count)\n",
        "\n",
        "num_bins=1\n",
        "plt.hist(cantC,num_bins,facecolor='blue', density=True)"
      ],
      "execution_count": 25,
      "outputs": [
        {
          "output_type": "stream",
          "text": [
            "La probabiliad de obtener 21 es 0.0219 La cantidad promedio de cartas necesarias es : 5.0\n"
          ],
          "name": "stdout"
        },
        {
          "output_type": "execute_result",
          "data": {
            "text/plain": [
              "(array([1.]), array([4.5, 5.5]), <a list of 1 Patch objects>)"
            ]
          },
          "metadata": {
            "tags": []
          },
          "execution_count": 25
        },
        {
          "output_type": "display_data",
          "data": {
            "image/png": "[encoded data removed]",
            "text/plain": [
              "<Figure size 432x288 with 1 Axes>"
            ]
          },
          "metadata": {
            "tags": [],
            "needs_background": "light"
          }
        }
      ]
    },
    {
      "cell_type": "code",
      "metadata": {
        "id": "3Nok5eyiQW8n",
        "outputId": "f9f6d76f-bdfd-47d8-f775-66bb6858ca07",
        "colab": {
          "base_uri": "https://localhost:8080/",
          "height": 34
        }
      },
      "source": [
        "import random \n",
        "import numpy as np\n",
        "import matplotlib.pyplot as plt\n",
        "\n",
        "\"\"\"Baraja Poker 12 cartas restantes Hot\"\"\"\n",
        "n=10000000\n",
        "count = 0\n",
        "contc= 0\n",
        "for i in range(n):\n",
        "  bar = [1,2,3,4,6,8,9,10,10,10,10,1,2,3,4,5,6,8,9,10,10,10,10,1,2,3,4,5,6,7,8,9,10,10,10,10,1,2,3,4,5,6,7,8,9,10,10,10,10]\n",
        "  mano=[7,7,5]\n",
        "  bar2=[1,1,1,1,2,2,2,2]\n",
        "  for j in range(11):\n",
        "    bar2.append(random.choice(bar))\n",
        "  while (sum(mano)<21):\n",
        "    carta= random.choice(bar2)\n",
        "    mano.append(carta)\n",
        "    bar2.remove(carta)\n",
        "  if (sum(mano)==21):\n",
        "    count = count + 1\n",
        "    contc = contc + len(mano)\n",
        "\n",
        "print(\"La probabiliad de obtener 21 es\", count/n, \"La cantidad promedio de cartas necesarias es :\", contc/count)\n"
      ],
      "execution_count": 24,
      "outputs": [
        {
          "output_type": "stream",
          "text": [
            "La probabiliad de obtener 21 es 0.3160579 La cantidad promedio de cartas necesarias es : 4.184148537340785\n"
          ],
          "name": "stdout"
        }
      ]
    },
    {
      "cell_type": "code",
      "metadata": {
        "id": "lmKvA_XeDcpU",
        "outputId": "fe9548bb-a8dd-413a-a377-3b1dfef1c3ca",
        "colab": {
          "base_uri": "https://localhost:8080/",
          "height": 299
        }
      },
      "source": [
        "import random \n",
        "import numpy as np\n",
        "import matplotlib.pyplot as plt\n",
        "\n",
        "\"\"\"Baraja Poker 12 cartas restantes Hot\"\"\"\n",
        "n=10000\n",
        "count = 0\n",
        "contc= 0\n",
        "cantC=[]\n",
        "for i in range(n):\n",
        "  bar = [1,2,3,4,6,8,9,10,10,10,10,1,2,3,4,5,6,8,9,10,10,10,10,1,2,3,4,5,6,7,8,9,10,10,10,10,1,2,3,4,5,6,7,8,9,10,10,10,10]\n",
        "  mano=[7,7,5]\n",
        "  bar2=[1,1,1,1,2,2,2,2]\n",
        "  for j in range(11):\n",
        "    bar2.append(random.choice(bar))\n",
        "  while (sum(mano)<21):\n",
        "    carta= random.choice(bar2)\n",
        "    mano.append(carta)\n",
        "    bar2.remove(carta)\n",
        "  if (sum(mano)==21):\n",
        "    count = count + 1\n",
        "    contc = contc + len(mano)\n",
        "    cantC.append(len(mano))\n",
        "\n",
        "print(\"La probabiliad de obtener 21 es\", count/n, \"La cantidad promedio de cartas necesarias es :\", contc/count)\n",
        "\n",
        "num_bins=1\n",
        "plt.hist(cantC,num_bins,facecolor='red', density=True)"
      ],
      "execution_count": 26,
      "outputs": [
        {
          "output_type": "stream",
          "text": [
            "La probabiliad de obtener 21 es 0.3151 La cantidad promedio de cartas necesarias es : 4.189146302761028\n"
          ],
          "name": "stdout"
        },
        {
          "output_type": "execute_result",
          "data": {
            "text/plain": [
              "(array([1.]), array([4., 5.]), <a list of 1 Patch objects>)"
            ]
          },
          "metadata": {
            "tags": []
          },
          "execution_count": 26
        },
        {
          "output_type": "display_data",
          "data": {
            "image/png": "[encoded data removed]",
            "text/plain": [
              "<Figure size 432x288 with 1 Axes>"
            ]
          },
          "metadata": {
            "tags": [],
            "needs_background": "light"
          }
        }
      ]
    },
    {
      "cell_type": "code",
      "metadata": {
        "id": "UTtky2zPQ-IV",
        "outputId": "3bc3654f-3504-46bc-907b-27c8a88f5f13",
        "colab": {
          "base_uri": "https://localhost:8080/",
          "height": 34
        }
      },
      "source": [
        "import random \n",
        "import numpy as np\n",
        "import matplotlib.pyplot as plt\n",
        "\n",
        "\"\"\"Baraja Poker 10 cartas restantes Hot\"\"\"\n",
        "n=10000000\n",
        "count = 0\n",
        "contc= 0\n",
        "for i in range(n):\n",
        "  bar = [1,2,3,4,6,8,9,10,10,10,10,1,2,3,4,5,6,8,9,10,10,10,10,1,2,3,4,5,6,7,8,9,10,10,10,10,1,2,3,4,5,6,7,8,9,10,10,10,10]\n",
        "  mano=[7,7,5]\n",
        "  bar2=[1,1,1,1,2,2,2,2]\n",
        "  for j in range(2):\n",
        "    bar2.append(random.choice(bar))\n",
        "  while (sum(mano)<21):\n",
        "    carta= random.choice(bar2)\n",
        "    mano.append(carta)\n",
        "    bar2.remove(carta)\n",
        "  if (sum(mano)==21):\n",
        "    count = count + 1\n",
        "    contc = contc + len(mano)\n",
        "\n",
        "print(\"La probabiliad de obtener 21 es\", count/n, \"La cantidad promedio de cartas necesarias es :\", contc/count)\n"
      ],
      "execution_count": 27,
      "outputs": [
        {
          "output_type": "stream",
          "text": [
            "La probabiliad de obtener 21 es 0.5643925 La cantidad promedio de cartas necesarias es : 4.26214115176938\n"
          ],
          "name": "stdout"
        }
      ]
    },
    {
      "cell_type": "code",
      "metadata": {
        "id": "exP9JNOHDgIL",
        "outputId": "824d04a6-0bc1-4323-d54c-58d9c978ca8e",
        "colab": {
          "base_uri": "https://localhost:8080/",
          "height": 299
        }
      },
      "source": [
        "import random \n",
        "import numpy as np\n",
        "import matplotlib.pyplot as plt\n",
        "\n",
        "\"\"\"Baraja Poker 10 cartas restantes Hot\"\"\"\n",
        "n=10000\n",
        "count = 0\n",
        "contc= 0\n",
        "cantC=[]\n",
        "for i in range(n):\n",
        "  bar = [1,2,3,4,6,8,9,10,10,10,10,1,2,3,4,5,6,8,9,10,10,10,10,1,2,3,4,5,6,7,8,9,10,10,10,10,1,2,3,4,5,6,7,8,9,10,10,10,10]\n",
        "  mano=[7,7,5]\n",
        "  bar2=[1,1,1,1,2,2,2,2]\n",
        "  for j in range(2):\n",
        "    bar2.append(random.choice(bar))\n",
        "  while (sum(mano)<21):\n",
        "    carta= random.choice(bar2)\n",
        "    mano.append(carta)\n",
        "    bar2.remove(carta)\n",
        "  if (sum(mano)==21):\n",
        "    count = count + 1\n",
        "    contc = contc + len(mano)\n",
        "    cantC.append(len(mano))\n",
        "\n",
        "print(\"La probabiliad de obtener 21 es\", count/n, \"La cantidad promedio de cartas necesarias es :\", contc/count)\n",
        "\n",
        "num_bins=1\n",
        "plt.hist(cantC,num_bins,facecolor='red', density=True)"
      ],
      "execution_count": 28,
      "outputs": [
        {
          "output_type": "stream",
          "text": [
            "La probabiliad de obtener 21 es 0.5667 La cantidad promedio de cartas necesarias es : 4.262572789835892\n"
          ],
          "name": "stdout"
        },
        {
          "output_type": "execute_result",
          "data": {
            "text/plain": [
              "(array([1.]), array([4., 5.]), <a list of 1 Patch objects>)"
            ]
          },
          "metadata": {
            "tags": []
          },
          "execution_count": 28
        },
        {
          "output_type": "display_data",
          "data": {
            "image/png": "[encoded data removed]",
            "text/plain": [
              "<Figure size 432x288 with 1 Axes>"
            ]
          },
          "metadata": {
            "tags": [],
            "needs_background": "light"
          }
        }
      ]
    },
    {
      "cell_type": "code",
      "metadata": {
        "id": "bFDjjoMxR4Ey",
        "outputId": "c8d1d983-4b88-4366-843d-8d701db9dbcb",
        "colab": {
          "base_uri": "https://localhost:8080/",
          "height": 34
        }
      },
      "source": [
        "import random \n",
        "import numpy as np\n",
        "import matplotlib.pyplot as plt\n",
        "\n",
        "\"\"\"Baraja Poker 12 cartas restantes Cold\"\"\"\n",
        "n=10000000\n",
        "count = 0\n",
        "contc= 0\n",
        "for i in range(n):\n",
        "  bar = [1,2,3,4,6,8,9,10,10,10,10,1,2,3,4,5,6,8,9,10,10,10,10,1,2,3,4,5,6,7,8,9,10,10,10,10,1,2,3,4,5,6,7,8,9,10,10,10,10]\n",
        "  mano=[7,7,5]\n",
        "  bar2=[1,1]\n",
        "  for j in range(10):\n",
        "    bar2.append(random.choice(bar))\n",
        "  while (sum(mano)<21):\n",
        "    carta= random.choice(bar2)\n",
        "    mano.append(carta)\n",
        "    bar2.remove(carta)\n",
        "  if (sum(mano)==21):\n",
        "    count = count + 1\n",
        "    contc = contc + len(mano)\n",
        "\n",
        "print(\"La probabiliad de obtener 21 es\", count/n, \"La cantidad promedio de cartas necesarias es :\", contc/count)\n"
      ],
      "execution_count": 29,
      "outputs": [
        {
          "output_type": "stream",
          "text": [
            "La probabiliad de obtener 21 es 0.1124004 La cantidad promedio de cartas necesarias es : 4.395575994391479\n"
          ],
          "name": "stdout"
        }
      ]
    },
    {
      "cell_type": "code",
      "metadata": {
        "id": "_7nSf6v_Dijs",
        "outputId": "9fe7f5bb-3359-45b2-d14f-cbca9b3bee8f",
        "colab": {
          "base_uri": "https://localhost:8080/",
          "height": 299
        }
      },
      "source": [
        "import random \n",
        "import numpy as np\n",
        "import matplotlib.pyplot as plt\n",
        "\n",
        "\"\"\"Baraja Poker 12 cartas restantes Cold\"\"\"\n",
        "n=10000\n",
        "count = 0\n",
        "contc= 0\n",
        "cantC=[]\n",
        "for i in range(n):\n",
        "  bar = [1,2,3,4,6,8,9,10,10,10,10,1,2,3,4,5,6,8,9,10,10,10,10,1,2,3,4,5,6,7,8,9,10,10,10,10,1,2,3,4,5,6,7,8,9,10,10,10,10]\n",
        "  mano=[7,7,5]\n",
        "  bar2=[1,1]\n",
        "  for j in range(10):\n",
        "    bar2.append(random.choice(bar))\n",
        "  while (sum(mano)<21):\n",
        "    carta= random.choice(bar2)\n",
        "    mano.append(carta)\n",
        "    bar2.remove(carta)\n",
        "  if (sum(mano)==21):\n",
        "    count = count + 1\n",
        "    contc = contc + len(mano)\n",
        "    cantC.append(len(mano))\n",
        "\n",
        "print(\"La probabiliad de obtener 21 es\", count/n, \"La cantidad promedio de cartas necesarias es :\", contc/count)\n",
        "\n",
        "num_bins=1\n",
        "plt.hist(cantC,num_bins,facecolor='blue', density=True)"
      ],
      "execution_count": 30,
      "outputs": [
        {
          "output_type": "stream",
          "text": [
            "La probabiliad de obtener 21 es 0.1158 La cantidad promedio de cartas necesarias es : 4.4119170984455955\n"
          ],
          "name": "stdout"
        },
        {
          "output_type": "execute_result",
          "data": {
            "text/plain": [
              "(array([1.]), array([4., 5.]), <a list of 1 Patch objects>)"
            ]
          },
          "metadata": {
            "tags": []
          },
          "execution_count": 30
        },
        {
          "output_type": "display_data",
          "data": {
            "image/png": "[encoded data removed]",
            "text/plain": [
              "<Figure size 432x288 with 1 Axes>"
            ]
          },
          "metadata": {
            "tags": [],
            "needs_background": "light"
          }
        }
      ]
    },
    {
      "cell_type": "code",
      "metadata": {
        "id": "HRoepOlSSh9s",
        "outputId": "bd6a4a04-ef75-4907-b362-06e7a910e05a",
        "colab": {
          "base_uri": "https://localhost:8080/",
          "height": 34
        }
      },
      "source": [
        "import random \n",
        "import numpy as np\n",
        "import matplotlib.pyplot as plt\n",
        "\n",
        "\"\"\"Baraja Poker 10 cartas restantes Cold\"\"\"\n",
        "n=10000000\n",
        "count = 0\n",
        "contc= 0\n",
        "for i in range(n):\n",
        "  bar = [1,2,3,4,6,8,9,10,10,10,10,1,2,3,4,5,6,8,9,10,10,10,10,1,2,3,4,5,6,7,8,9,10,10,10,10,1,2,3,4,5,6,7,8,9,10,10,10,10]\n",
        "  mano=[7,7,5]\n",
        "  bar2=[1,1]\n",
        "  for j in range(8):\n",
        "    bar2.append(random.choice(bar))\n",
        "  while (sum(mano)<21):\n",
        "    carta= random.choice(bar2)\n",
        "    mano.append(carta)\n",
        "    bar2.remove(carta)\n",
        "  if (sum(mano)==21):\n",
        "    count = count + 1\n",
        "    contc = contc + len(mano)\n",
        "\n",
        "print(\"La probabiliad de obtener 21 es\", count/n, \"La cantidad promedio de cartas necesarias es :\", contc/count)\n"
      ],
      "execution_count": 31,
      "outputs": [
        {
          "output_type": "stream",
          "text": [
            "La probabiliad de obtener 21 es 0.1206797 La cantidad promedio de cartas necesarias es : 4.458097757949348\n"
          ],
          "name": "stdout"
        }
      ]
    },
    {
      "cell_type": "code",
      "metadata": {
        "id": "6Y9GMcU-Dml0",
        "outputId": "274a6ef3-6ffc-4050-ffb2-18782f075238",
        "colab": {
          "base_uri": "https://localhost:8080/",
          "height": 299
        }
      },
      "source": [
        "import random \n",
        "import numpy as np\n",
        "import matplotlib.pyplot as plt\n",
        "\n",
        "\"\"\"Baraja Poker 10 cartas restantes Cold\"\"\"\n",
        "n=10000\n",
        "count = 0\n",
        "contc= 0\n",
        "cantC=[]\n",
        "for i in range(n):\n",
        "  bar = [1,2,3,4,6,8,9,10,10,10,10,1,2,3,4,5,6,8,9,10,10,10,10,1,2,3,4,5,6,7,8,9,10,10,10,10,1,2,3,4,5,6,7,8,9,10,10,10,10]\n",
        "  mano=[7,7,5]\n",
        "  bar2=[1,1]\n",
        "  for j in range(8):\n",
        "    bar2.append(random.choice(bar))\n",
        "  while (sum(mano)<21):\n",
        "    carta= random.choice(bar2)\n",
        "    mano.append(carta)\n",
        "    bar2.remove(carta)\n",
        "  if (sum(mano)==21):\n",
        "    count = count + 1\n",
        "    contc = contc + len(mano)\n",
        "    cantC.append(len(mano))\n",
        "\n",
        "print(\"La probabiliad de obtener 21 es\", count/n, \"La cantidad promedio de cartas necesarias es :\", contc/count)\n",
        "\n",
        "num_bins=1\n",
        "plt.hist(cantC,num_bins,facecolor='blue', density=True)"
      ],
      "execution_count": 32,
      "outputs": [
        {
          "output_type": "stream",
          "text": [
            "La probabiliad de obtener 21 es 0.12 La cantidad promedio de cartas necesarias es : 4.449166666666667\n"
          ],
          "name": "stdout"
        },
        {
          "output_type": "execute_result",
          "data": {
            "text/plain": [
              "(array([1.]), array([4., 5.]), <a list of 1 Patch objects>)"
            ]
          },
          "metadata": {
            "tags": []
          },
          "execution_count": 32
        },
        {
          "output_type": "display_data",
          "data": {
            "image/png": "[encoded data removed]",
            "text/plain": [
              "<Figure size 432x288 with 1 Axes>"
            ]
          },
          "metadata": {
            "tags": [],
            "needs_background": "light"
          }
        }
      ]
    },
    {
      "cell_type": "markdown",
      "metadata": {
        "id": "4Q6Wlru7ruIB"
      },
      "source": [
        "**PUNTO 5**\n"
      ]
    },
    {
      "cell_type": "code",
      "metadata": {
        "id": "OF3_bpCD4mKI",
        "outputId": "bc6a26b2-d3c2-4411-b698-c2b022a2bef7",
        "colab": {
          "base_uri": "https://localhost:8080/",
          "height": 51
        }
      },
      "source": [
        "import random \n",
        "import numpy as np\n",
        "import matplotlib.pyplot as plt\n",
        "\n",
        "\"\"\"Baraja Española 12 cartas restantes o mazo completo\"\"\"\n",
        "n=10000\n",
        "count = 0\n",
        "contc= 0\n",
        "flag=[1,2,3,4,5,6,7,8,9,10]\n",
        "for i in range(n):\n",
        "  dinero=0\n",
        "  ganancia=0\n",
        "  for a in range(600):\n",
        "    bar = [3,4,6,8,9,10,10,10,3,4,5,6,8,9,10,10,10,3,4,5,6,7,8,9,10,10,10,3,4,5,6,7,8,9,10,10,10]\n",
        "    bar3 = [1,2,3,4,5,7,6,8,9,10,10,10,1,2,3,4,5,6,7,8,9,10,10,10,1,2,3,4,5,6,7,8,9,10,10,10,1,2,3,4,5,6,7,8,9,10,10,10]\n",
        "    mano=[]\n",
        "    if ((random.choice(flag))==1):\n",
        "      mano=[7,7,5]\n",
        "      dinero=1000\n",
        "      bar2=[1,1,1,1,2,2,2,2]\n",
        "      for j in range(4):\n",
        "        bar2.append(random.choice(bar))\n",
        "    else:\n",
        "      dinero=10\n",
        "      bar2=bar3\n",
        "    while (sum(mano)<21):\n",
        "      carta= random.choice(bar2)\n",
        "      mano.append(carta)\n",
        "      bar2.remove(carta)\n",
        "    if (sum(mano)==21):\n",
        "      count = count + 1\n",
        "      contc = contc + len(mano)\n",
        "      ganancia=ganancia+(dinero*2)\n",
        "    elif (sum(mano)>21):\n",
        "      ganancia=ganancia-dinero\n",
        "\n",
        "print(\"La probabiliad de obtener 21 es\", count/(n*600), \"La cantidad promedio de cartas necesarias es :\", contc/count)\n",
        "print(\"Ben gana en promedio:,\", ganancia/n, \" el fin de semana\")\n"
      ],
      "execution_count": 33,
      "outputs": [
        {
          "output_type": "stream",
          "text": [
            "La probabiliad de obtener 21 es 0.17676033333333332 La cantidad promedio de cartas necesarias es : 3.8217407374580645\n",
            "Ben gana en promedio:, 1.686  el fin de semana\n"
          ],
          "name": "stdout"
        }
      ]
    },
    {
      "cell_type": "code",
      "metadata": {
        "id": "T_sMtrW4U-tG",
        "outputId": "20ce99da-639d-428b-bae2-12347344de02",
        "colab": {
          "base_uri": "https://localhost:8080/",
          "height": 51
        }
      },
      "source": [
        "import random \n",
        "import numpy as np\n",
        "import matplotlib.pyplot as plt\n",
        "\n",
        "\"\"\"Baraja de Poker 12 cartas restantes o mazo completo\"\"\"\n",
        "n=10000\n",
        "count = 0\n",
        "contc= 0\n",
        "flag=[1,2,3,4,5,6,7,8,9,10]\n",
        "for i in range(n):\n",
        "  dinero=0\n",
        "  ganancia=0\n",
        "  for a in range(600):\n",
        "    bar = [3,4,6,8,9,10,10,10,10,3,4,5,6,8,9,10,10,10,10,3,4,5,6,7,8,9,10,10,10,10,3,4,5,6,7,8,9,10,10,10,10]\n",
        "    bar3 = [1,2,3,4,5,7,6,8,9,10,10,10,10,1,2,3,4,5,6,7,8,9,10,10,10,10,1,2,3,4,5,6,7,8,9,10,10,10,10,1,2,3,4,5,6,7,8,9,10,10,10,10]\n",
        "    mano=[]\n",
        "    if ((random.choice(flag))==1):\n",
        "      mano=[7,7,5]\n",
        "      dinero=1000\n",
        "      bar2=[1,1,1,1,2,2,2,2]\n",
        "      for j in range(4):\n",
        "        bar2.append(random.choice(bar))\n",
        "    else:\n",
        "      dinero=10\n",
        "      bar2=bar3\n",
        "    while (sum(mano)<21):\n",
        "      carta= random.choice(bar2)\n",
        "      mano.append(carta)\n",
        "      bar2.remove(carta)\n",
        "    if (sum(mano)==21):\n",
        "      count = count + 1\n",
        "      contc = contc + len(mano)\n",
        "      ganancia=ganancia+(dinero*2)\n",
        "    elif (sum(mano)>21):\n",
        "      ganancia=ganancia-dinero\n",
        "\n",
        "print(\"La probabiliad de obtener 21 es\", count/(n*600), \"La cantidad promedio de cartas necesarias es :\", contc/count)\n",
        "print(\"Ben gana en promedio:,\", ganancia/n, \" el fin de semana\")\n"
      ],
      "execution_count": 34,
      "outputs": [
        {
          "output_type": "stream",
          "text": [
            "La probabiliad de obtener 21 es 0.1683555 La cantidad promedio de cartas necesarias es : 3.738332477010453\n",
            "Ben gana en promedio:, 1.806  el fin de semana\n"
          ],
          "name": "stdout"
        }
      ]
    },
    {
      "cell_type": "markdown",
      "metadata": {
        "id": "UN7SUGE4ryt5"
      },
      "source": [
        "**PUNTO** **6**\n"
      ]
    },
    {
      "cell_type": "code",
      "metadata": {
        "id": "CK_NITcfV4EP",
        "outputId": "8ff09979-e191-4811-daf6-66b1ded7fb1c",
        "colab": {
          "base_uri": "https://localhost:8080/",
          "height": 51
        }
      },
      "source": [
        "import random \n",
        "import numpy as np\n",
        "import matplotlib.pyplot as plt\n",
        "\n",
        "\"\"\"Baraja Española apuestas\"\"\"\n",
        "n=10000\n",
        "count = 0\n",
        "contc= 0\n",
        "for i in range(n):\n",
        "  dinero=10\n",
        "  ganancia=0\n",
        "  for a in range(600):\n",
        "    bar3 = [1,2,3,4,5,7,6,8,9,10,10,10,1,2,3,4,5,6,7,8,9,10,10,10,1,2,3,4,5,6,7,8,9,10,10,10,1,2,3,4,5,6,7,8,9,10,10,10]\n",
        "    mano=[]\n",
        "    while (sum(mano)<21):\n",
        "      carta= random.choice(bar3)\n",
        "      mano.append(carta)\n",
        "      bar3.remove(carta)\n",
        "    if (sum(mano)==21):\n",
        "      count = count + 1\n",
        "      contc = contc + len(mano)\n",
        "      ganancia=ganancia+(dinero*2)\n",
        "    elif (sum(mano)>21):\n",
        "      ganancia=ganancia-dinero\n",
        "\n",
        "print(\"La probabiliad de obtener 21 es\", count/(n*600), \"La cantidad promedio de cartas necesarias es :\", contc/count)\n",
        "print(\"Ben gana en promedio:,\", ganancia/n, \" el fin de semana\")\n"
      ],
      "execution_count": 37,
      "outputs": [
        {
          "output_type": "stream",
          "text": [
            "La probabiliad de obtener 21 es 0.14951833333333334 La cantidad promedio de cartas necesarias es : 3.6997614562316774\n",
            "Ben gana en promedio:, -0.384  el fin de semana\n"
          ],
          "name": "stdout"
        }
      ]
    },
    {
      "cell_type": "code",
      "metadata": {
        "id": "qjs_y_whWaCX",
        "outputId": "8fa21af2-9027-4818-978a-df65a48103bf",
        "colab": {
          "base_uri": "https://localhost:8080/",
          "height": 51
        }
      },
      "source": [
        "import random \n",
        "import numpy as np\n",
        "import matplotlib.pyplot as plt\n",
        "\n",
        "\"\"\"Baraja de Poker apuestas\"\"\"\n",
        "n=10000\n",
        "count = 0\n",
        "contc= 0\n",
        "for i in range(n):\n",
        "  dinero=10\n",
        "  ganancia=0\n",
        "  for a in range(600):\n",
        "    bar3 = [1,2,3,4,5,7,6,8,9,10,10,10,10,1,2,3,4,5,6,7,8,9,10,10,10,10,1,2,3,4,5,6,7,8,9,10,10,10,10,1,2,3,4,5,6,7,8,9,10,10,10,10]\n",
        "    mano=[]\n",
        "    while (sum(mano)<21):\n",
        "      carta= random.choice(bar3)\n",
        "      mano.append(carta)\n",
        "      bar3.remove(carta)\n",
        "    if (sum(mano)==21):\n",
        "      count = count + 1\n",
        "      contc = contc + len(mano)\n",
        "      ganancia=ganancia+(dinero*2)\n",
        "    elif (sum(mano)>21):\n",
        "      ganancia=ganancia-dinero\n",
        "\n",
        "print(\"La probabiliad de obtener 21 es\", count/(n*600), \"La cantidad promedio de cartas necesarias es :\", contc/count)\n",
        "print(\"Ben gana en promedio:,\", ganancia/n, \" el fin de semana\")\n"
      ],
      "execution_count": 38,
      "outputs": [
        {
          "output_type": "stream",
          "text": [
            "La probabiliad de obtener 21 es 0.140278 La cantidad promedio de cartas necesarias es : 3.576902056392782\n",
            "Ben gana en promedio:, -0.312  el fin de semana\n"
          ],
          "name": "stdout"
        }
      ]
    }
  ]
}