{
  "nbformat": 4,
  "nbformat_minor": 0,
  "metadata": {
    "colab": {
      "name": "21BlackjackGrClass1StGroup11.ipynb",
      "provenance": [],
      "collapsed_sections": []
    },
    "kernelspec": {
      "name": "python3",
      "display_name": "Python 3"
    }
  },
  "cells": [
    {
      "cell_type": "markdown",
      "metadata": {
        "id": "K5qNWsGF3GTH",
        "colab_type": "text"
      },
      "source": [
        "GRUPO 11 LAB 4\n"
      ]
    },
    {
      "cell_type": "markdown",
      "metadata": {
        "id": "2TASY0Wug3_b",
        "colab_type": "text"
      },
      "source": [
        "**PUNTO 1**"
      ]
    },
    {
      "cell_type": "code",
      "metadata": {
        "colab_type": "code",
        "id": "EvdV5I6teHmw",
        "colab": {
          "base_uri": "https://localhost:8080/",
          "height": 34
        },
        "outputId": "701fe77f-93df-4e15-8ecc-a86142c68574"
      },
      "source": [
        "import random \n",
        "import numpy as np\n",
        "import matplotlib.pyplot as plt\n",
        "\n",
        "\"\"\"Baraja Española\"\"\"\n",
        "n=10000000\n",
        "count = 0\n",
        "contc= 0\n",
        "for i in range(n):\n",
        "  bar = [1,2,3,4,5,6,7,8,9,10,11,12,1,2,3,4,5,6,7,8,9,10,11,12,1,2,3,4,5,6,7,8,9,10,11,12,1,2,3,4,5,6,7,8,9,10,11,12]\n",
        "  mano=[]\n",
        "  while (sum(mano)<21):\n",
        "    carta= random.choice(bar)\n",
        "    mano.append(carta)\n",
        "    bar.remove(carta)\n",
        "  if (sum(mano)==21):\n",
        "    count = count + 1\n",
        "    contc = contc + len(mano)\n",
        "\n",
        "print(\"La probabiliad de obtener 21 es\", count/n, \"La cantidad promedio de cartas necesarias es :\", contc/count)\n"
      ],
      "execution_count": null,
      "outputs": [
        {
          "output_type": "stream",
          "text": [
            "La probabiliad de obtener 21 es 0.1577347 La cantidad promedio de cartas necesarias es : 3.4162825300964212\n"
          ],
          "name": "stdout"
        }
      ]
    },
    {
      "cell_type": "code",
      "metadata": {
        "id": "7r-n2kXzY7cK",
        "colab_type": "code",
        "colab": {
          "base_uri": "https://localhost:8080/",
          "height": 333
        },
        "outputId": "82b91030-73f4-4b5d-ea80-8444cb6a9580"
      },
      "source": [
        "import random \n",
        "import numpy as np\n",
        "import matplotlib.pyplot as plt\n",
        "\n",
        "\"\"\"Baraja Española\"\"\"\n",
        "n=10000\n",
        "count = 0\n",
        "contc= 0\n",
        "cantC=[]\n",
        "for i in range(n):\n",
        "  bar = [1,2,3,4,5,6,7,8,9,10,11,12,1,2,3,4,5,6,7,8,9,10,11,12,1,2,3,4,5,6,7,8,9,10,11,12,1,2,3,4,5,6,7,8,9,10,11,12]\n",
        "  mano=[]\n",
        "  while (sum(mano)<21):\n",
        "    carta= random.choice(bar)\n",
        "    mano.append(carta)\n",
        "    bar.remove(carta)\n",
        "  if (sum(mano)==21):\n",
        "    count = count + 1\n",
        "    contc = contc + len(mano)\n",
        "    cantC.append(len(mano))\n",
        "\n",
        "print(\"La probabiliad de obtener 21 es\", count/n, \"La cantidad promedio de cartas necesarias es :\", contc/count)\n",
        "\n",
        "num_bins=max(cantC)-min(cantC)\n",
        "plt.hist(cantC,num_bins,facecolor='green')"
      ],
      "execution_count": null,
      "outputs": [
        {
          "output_type": "stream",
          "text": [
            "La probabiliad de obtener 21 es 0.153 La cantidad promedio de cartas necesarias es : 3.437254901960784\n"
          ],
          "name": "stdout"
        },
        {
          "output_type": "execute_result",
          "data": {
            "text/plain": [
              "(array([243., 628., 451., 168.,  40.]),\n",
              " array([2., 3., 4., 5., 6., 7.]),\n",
              " <a list of 5 Patch objects>)"
            ]
          },
          "metadata": {
            "tags": []
          },
          "execution_count": 3
        },
        {
          "output_type": "display_data",
          "data": {
            "image/png": "[encoded data removed]",
            "text/plain": [
              "<Figure size 432x288 with 1 Axes>"
            ]
          },
          "metadata": {
            "tags": [],
            "needs_background": "light"
          }
        }
      ]
    },
    {
      "cell_type": "code",
      "metadata": {
        "colab_type": "code",
        "id": "GNy8wJS8eocF",
        "colab": {
          "base_uri": "https://localhost:8080/",
          "height": 34
        },
        "outputId": "526f2352-9e78-4ede-9170-763bfe565712"
      },
      "source": [
        "import random \n",
        "import matplotlib.pyplot as plt\n",
        "import numpy as np\n",
        "\n",
        "\"\"\"Baraja de Poker\"\"\"\n",
        "n=10000000\n",
        "count = 0\n",
        "contc= 0\n",
        "for i in range(n):\n",
        "  bar = [1,2,3,4,5,6,7,8,9,10,11,12,13,1,2,3,4,5,6,7,8,9,10,11,12,13,1,2,3,4,5,6,7,8,9,10,11,12,13,1,2,3,4,5,6,7,8,9,10,11,12,13]\n",
        "  mano=[]\n",
        "  while (sum(mano)<21):\n",
        "    carta= random.choice(bar)\n",
        "    mano.append(carta)\n",
        "    bar.remove(carta)\n",
        "  if (sum(mano)==21):\n",
        "    count = count +1\n",
        "    contc=contc + len(mano)\n",
        "\n",
        "print(\"La probabiliad de obtener 21 es\", count/n, \"La cantidad promedio de cartas necesarias es :\", contc/count)\n"
      ],
      "execution_count": null,
      "outputs": [
        {
          "output_type": "stream",
          "text": [
            "La probabiliad de obtener 21 es 0.1446032 La cantidad promedio de cartas necesarias es : 3.2155623112074974\n"
          ],
          "name": "stdout"
        }
      ]
    },
    {
      "cell_type": "code",
      "metadata": {
        "id": "eQL4aBaofU6X",
        "colab_type": "code",
        "colab": {
          "base_uri": "https://localhost:8080/",
          "height": 333
        },
        "outputId": "8754bb14-43c0-4338-b15b-b1d63971269e"
      },
      "source": [
        "import random \n",
        "import matplotlib.pyplot as plt\n",
        "import numpy as np\n",
        "\n",
        "\"\"\"Baraja de Poker\"\"\"\n",
        "n=10000\n",
        "count = 0\n",
        "contc= 0\n",
        "cantC=[]\n",
        "for i in range(n):\n",
        "  bar = [1,2,3,4,5,6,7,8,9,10,11,12,13,1,2,3,4,5,6,7,8,9,10,11,12,13,1,2,3,4,5,6,7,8,9,10,11,12,13,1,2,3,4,5,6,7,8,9,10,11,12,13]\n",
        "  mano=[]\n",
        "  while (sum(mano)<21):\n",
        "    carta= random.choice(bar)\n",
        "    mano.append(carta)\n",
        "    bar.remove(carta)\n",
        "  if (sum(mano)==21):\n",
        "    count = count +1\n",
        "    contc=contc + len(mano)\n",
        "    cantC.append(len(mano))\n",
        "\n",
        "\n",
        "print(\"La probabiliad de obtener 21 es\", count/n, \"La cantidad promedio de cartas necesarias es :\", contc/count)\n",
        "\n",
        "num_bins=max(cantC)-min(cantC)\n",
        "plt.hist(cantC,num_bins,facecolor='red')\n"
      ],
      "execution_count": null,
      "outputs": [
        {
          "output_type": "stream",
          "text": [
            "La probabiliad de obtener 21 es 0.1398 La cantidad promedio de cartas necesarias es : 3.168097281831187\n"
          ],
          "name": "stdout"
        },
        {
          "output_type": "execute_result",
          "data": {
            "text/plain": [
              "(array([386., 557., 317., 115.,  23.]),\n",
              " array([2., 3., 4., 5., 6., 7.]),\n",
              " <a list of 5 Patch objects>)"
            ]
          },
          "metadata": {
            "tags": []
          },
          "execution_count": 5
        },
        {
          "output_type": "display_data",
          "data": {
            "image/png": "[encoded data removed]",
            "text/plain": [
              "<Figure size 432x288 with 1 Axes>"
            ]
          },
          "metadata": {
            "tags": [],
            "needs_background": "light"
          }
        }
      ]
    },
    {
      "cell_type": "markdown",
      "metadata": {
        "id": "jzk7_slig-0F",
        "colab_type": "text"
      },
      "source": [
        "**PUNTO 2**"
      ]
    },
    {
      "cell_type": "code",
      "metadata": {
        "colab_type": "code",
        "id": "Htp5s9r63nHz",
        "colab": {
          "base_uri": "https://localhost:8080/",
          "height": 34
        },
        "outputId": "57a546ee-9f12-4481-c528-6bbeb7eeeedb"
      },
      "source": [
        "import random\n",
        "import matplotlib.pyplot as plt \n",
        "import numpy as np\n",
        "\n",
        "\"\"\"Baraja Española\"\"\"\n",
        "n=10000000\n",
        "count = 0\n",
        "contc= 0\n",
        "for i in range(n):\n",
        "  bar = [1,2,3,4,5,6,7,8,9,10,10,10,1,2,3,4,5,6,7,8,9,10,10,10,1,2,3,4,5,6,7,8,9,10,10,10,1,2,3,4,5,6,7,8,9,10,10,10]\n",
        "  mano=[]\n",
        "  while (sum(mano)<21):\n",
        "    carta= random.choice(bar)\n",
        "    mano.append(carta)\n",
        "    bar.remove(carta)\n",
        "  if (sum(mano)==21):\n",
        "    count = count +1\n",
        "    contc = contc + len(mano)\n",
        "\n",
        "print(\"La probabiliad de obtener 21 es\", count/n, \"La cantidad promedio de cartas necesarias es :\", contc/count)\n"
      ],
      "execution_count": null,
      "outputs": [
        {
          "output_type": "stream",
          "text": [
            "La probabiliad de obtener 21 es 0.1497894 La cantidad promedio de cartas necesarias es : 3.6989573360998844\n"
          ],
          "name": "stdout"
        }
      ]
    },
    {
      "cell_type": "code",
      "metadata": {
        "colab_type": "code",
        "id": "YyTk8kxAR6zW",
        "colab": {
          "base_uri": "https://localhost:8080/",
          "height": 333
        },
        "outputId": "28bd0e9d-666d-4ae5-daae-2913e47a9432"
      },
      "source": [
        "import random\n",
        "import matplotlib.pyplot as plt \n",
        "import numpy as np\n",
        "\n",
        "\"\"\"Baraja Española\"\"\"\n",
        "n=10000\n",
        "count = 0\n",
        "contc= 0\n",
        "cantC=[]\n",
        "for i in range(n):\n",
        "  bar = [1,2,3,4,5,6,7,8,9,10,10,10,1,2,3,4,5,6,7,8,9,10,10,10,1,2,3,4,5,6,7,8,9,10,10,10,1,2,3,4,5,6,7,8,9,10,10,10]\n",
        "  mano=[]\n",
        "  while (sum(mano)<21):\n",
        "    carta= random.choice(bar)\n",
        "    mano.append(carta)\n",
        "    bar.remove(carta)\n",
        "  if (sum(mano)==21):\n",
        "    count = count +1\n",
        "    contc = contc + len(mano)\n",
        "    cantC.append(len(mano))\n",
        "\n",
        "print(\"La probabiliad de obtener 21 es\", count/n, \"La cantidad promedio de cartas necesarias es :\", contc/count)\n",
        "\n",
        "num_bins=max(cantC)-min(cantC)\n",
        "plt.hist(cantC,num_bins,facecolor='yellow')"
      ],
      "execution_count": null,
      "outputs": [
        {
          "output_type": "stream",
          "text": [
            "La probabiliad de obtener 21 es 0.1503 La cantidad promedio de cartas necesarias es : 3.7112441783100465\n"
          ],
          "name": "stdout"
        },
        {
          "output_type": "execute_result",
          "data": {
            "text/plain": [
              "(array([749., 513., 181.,  47.,  13.]),\n",
              " array([3., 4., 5., 6., 7., 8.]),\n",
              " <a list of 5 Patch objects>)"
            ]
          },
          "metadata": {
            "tags": []
          },
          "execution_count": 7
        },
        {
          "output_type": "display_data",
          "data": {
            "image/png": "[encoded data removed]",
            "text/plain": [
              "<Figure size 432x288 with 1 Axes>"
            ]
          },
          "metadata": {
            "tags": [],
            "needs_background": "light"
          }
        }
      ]
    },
    {
      "cell_type": "code",
      "metadata": {
        "colab_type": "code",
        "id": "fasBFsAF4API",
        "colab": {
          "base_uri": "https://localhost:8080/",
          "height": 34
        },
        "outputId": "e4112a3d-c340-4a91-db3f-37415812ff4e"
      },
      "source": [
        "import random \n",
        "import matplotlib.pyplot as plt\n",
        "import numpy as np\n",
        "\n",
        "\"\"\"Baraja de Poker\"\"\"\n",
        "n=10000000\n",
        "count = 0\n",
        "contc= 0\n",
        "for i in range(n):\n",
        "  bar = [1,2,3,4,5,6,7,8,9,10,10,10,10,1,2,3,4,5,6,7,8,9,10,10,10,10,1,2,3,4,5,6,7,8,9,10,10,10,10,1,2,3,4,5,6,7,8,9,10,10,10,10]\n",
        "  mano=[]\n",
        "  while (sum(mano)<21):\n",
        "    carta= random.choice(bar)\n",
        "    mano.append(carta)\n",
        "    bar.remove(carta)\n",
        "  if (sum(mano)==21):\n",
        "    \n",
        "    count = count +1\n",
        "    contc=contc + len(mano)\n",
        "\n",
        "print(\"La probabiliad de obtener 21 es\", count/n, \"La cantidad promedio de cartas necesarias es :\", contc/count)\n"
      ],
      "execution_count": null,
      "outputs": [
        {
          "output_type": "stream",
          "text": [
            "La probabiliad de obtener 21 es 0.1403189 La cantidad promedio de cartas necesarias es : 3.5777732009016603\n"
          ],
          "name": "stdout"
        }
      ]
    },
    {
      "cell_type": "code",
      "metadata": {
        "id": "1xxVsGXdg2jL",
        "colab_type": "code",
        "colab": {
          "base_uri": "https://localhost:8080/",
          "height": 333
        },
        "outputId": "609db325-1e5b-4528-c708-b510c9fe7b42"
      },
      "source": [
        "import random \n",
        "import matplotlib.pyplot as plt\n",
        "import numpy as np\n",
        "\n",
        "\"\"\"Baraja de Poker\"\"\"\n",
        "n=10000\n",
        "count = 0\n",
        "contc= 0\n",
        "cantC=[]\n",
        "for i in range(n):\n",
        "  bar = [1,2,3,4,5,6,7,8,9,10,10,10,10,1,2,3,4,5,6,7,8,9,10,10,10,10,1,2,3,4,5,6,7,8,9,10,10,10,10,1,2,3,4,5,6,7,8,9,10,10,10,10]\n",
        "  mano=[]\n",
        "  while (sum(mano)<21):\n",
        "    carta= random.choice(bar)\n",
        "    mano.append(carta)\n",
        "    bar.remove(carta)\n",
        "  if (sum(mano)==21):\n",
        "    \n",
        "    count = count +1\n",
        "    contc=contc + len(mano)\n",
        "    cantC.append(len(mano))\n",
        "\n",
        "print(\"La probabiliad de obtener 21 es\", count/n, \"La cantidad promedio de cartas necesarias es :\", contc/count)\n",
        "\n",
        "num_bins=max(cantC)-min(cantC)\n",
        "plt.hist(cantC,num_bins,facecolor='blue')"
      ],
      "execution_count": null,
      "outputs": [
        {
          "output_type": "stream",
          "text": [
            "La probabiliad de obtener 21 es 0.1415 La cantidad promedio de cartas necesarias es : 3.552650176678445\n"
          ],
          "name": "stdout"
        },
        {
          "output_type": "execute_result",
          "data": {
            "text/plain": [
              "(array([826., 427., 137.,  20.,   5.]),\n",
              " array([3., 4., 5., 6., 7., 8.]),\n",
              " <a list of 5 Patch objects>)"
            ]
          },
          "metadata": {
            "tags": []
          },
          "execution_count": 8
        },
        {
          "output_type": "display_data",
          "data": {
            "image/png": "[encoded data removed]",
            "text/plain": [
              "<Figure size 432x288 with 1 Axes>"
            ]
          },
          "metadata": {
            "tags": [],
            "needs_background": "light"
          }
        }
      ]
    },
    {
      "cell_type": "markdown",
      "metadata": {
        "id": "cNGswBfhVu97",
        "colab_type": "text"
      },
      "source": [
        "PUNTO 3"
      ]
    },
    {
      "cell_type": "code",
      "metadata": {
        "colab_type": "code",
        "id": "TWy2h-075tlS",
        "colab": {
          "base_uri": "https://localhost:8080/",
          "height": 34
        },
        "outputId": "da4230c9-2818-436e-c881-c8a44eaa4674"
      },
      "source": [
        "import random \n",
        "import numpy as np\n",
        "import matplotlib.pyplot as plt\n",
        "\n",
        "\"\"\"Baraja Española\"\"\"\n",
        "n=10000000\n",
        "count = 0\n",
        "contc= 0\n",
        "for i in range(n):\n",
        "  bar = [1,2,3,4,6,8,9,10,11,12,1,2,3,4,5,6,8,9,10,11,12,1,2,3,4,5,6,7,8,9,10,11,12,1,2,3,4,5,6,7,8,9,10,11,12]\n",
        "  mano=[7,7,5]\n",
        "  bar2=[]\n",
        "  for j in range(int(len(bar)/2)):\n",
        "    bar2.append(random.choice(bar))\n",
        "  while (sum(mano)<21):\n",
        "    carta= random.choice(bar2)\n",
        "    mano.append(carta)\n",
        "    bar2.remove(carta)\n",
        "  if (sum(mano)==21):\n",
        "    count = count + 1\n",
        "    contc = contc + len(mano)\n",
        "\n",
        "print(\"La probabiliad de obtener 21 es\", count/n, \"La cantidad promedio de cartas necesarias es :\", contc/count)\n"
      ],
      "execution_count": null,
      "outputs": [
        {
          "output_type": "stream",
          "text": [
            "La probabiliad de obtener 21 es 0.0966705 La cantidad promedio de cartas necesarias es : 4.081992955451766\n"
          ],
          "name": "stdout"
        }
      ]
    },
    {
      "cell_type": "code",
      "metadata": {
        "colab_type": "code",
        "id": "zyckic4HWnf3",
        "colab": {
          "base_uri": "https://localhost:8080/",
          "height": 299
        },
        "outputId": "9b0575d9-2c77-4377-c58d-26fc3762d5b4"
      },
      "source": [
        "import random \n",
        "import numpy as np\n",
        "import matplotlib.pyplot as plt\n",
        "\n",
        "\"\"\"Baraja Española\"\"\"\n",
        "n=10000\n",
        "count = 0\n",
        "contc= 0\n",
        "cantC=[]\n",
        "for i in range(n):\n",
        "  bar = [1,2,3,4,6,8,9,10,11,12,1,2,3,4,5,6,8,9,10,11,12,1,2,3,4,5,6,7,8,9,10,11,12,1,2,3,4,5,6,7,8,9,10,11,12]\n",
        "  mano=[7,7,5]\n",
        "  bar2=[]\n",
        "  for j in range(int(len(bar)/2)):\n",
        "    bar2.append(random.choice(bar))\n",
        "  while (sum(mano)<21):\n",
        "    carta= random.choice(bar2)\n",
        "    mano.append(carta)\n",
        "    bar2.remove(carta)\n",
        "  if (sum(mano)==21):\n",
        "    count = count + 1\n",
        "    contc = contc + len(mano)\n",
        "    cantC.append(len(mano))\n",
        "\n",
        "print(\"La probabiliad de obtener 21 es\", count/n, \"La cantidad promedio de cartas necesarias es :\", contc/count)\n",
        "\n",
        "num_bins=max(cantC)-min(cantC)\n",
        "plt.hist(cantC,num_bins,facecolor='green')"
      ],
      "execution_count": null,
      "outputs": [
        {
          "output_type": "stream",
          "text": [
            "La probabiliad de obtener 21 es 0.0972 La cantidad promedio de cartas necesarias es : 4.082304526748971\n"
          ],
          "name": "stdout"
        },
        {
          "output_type": "execute_result",
          "data": {
            "text/plain": [
              "(array([972.]), array([4., 5.]), <a list of 1 Patch objects>)"
            ]
          },
          "metadata": {
            "tags": []
          },
          "execution_count": 11
        },
        {
          "output_type": "display_data",
          "data": {
            "image/png": "[encoded data removed]",
            "text/plain": [
              "<Figure size 432x288 with 1 Axes>"
            ]
          },
          "metadata": {
            "tags": [],
            "needs_background": "light"
          }
        }
      ]
    },
    {
      "cell_type": "code",
      "metadata": {
        "colab_type": "code",
        "id": "-q8ZxCad56OX",
        "colab": {
          "base_uri": "https://localhost:8080/",
          "height": 34
        },
        "outputId": "d33af114-e283-4785-e4ce-4de8af39d5ac"
      },
      "source": [
        "import random \n",
        "import matplotlib.pyplot as plt\n",
        "import numpy as np\n",
        "\n",
        "\"\"\"Baraja de Poker\"\"\"\n",
        "n=10000000\n",
        "count = 0\n",
        "contc= 0\n",
        "for i in range(n):\n",
        "  bar = [1,2,3,4,6,8,9,10,11,12,13,1,2,3,4,5,6,8,9,10,11,12,13,1,2,3,4,5,6,7,8,9,10,11,12,13,1,2,3,4,5,6,7,8,9,10,11,12,13]\n",
        "  mano=[7,7,5]\n",
        "  bar2=[]\n",
        "  for i in range(int(len(bar)/2)):\n",
        "    bar2.append(random.choice(bar))\n",
        "  while (sum(mano)<21):\n",
        "    carta= random.choice(bar2)\n",
        "    mano.append(carta)\n",
        "    bar2.remove(carta)\n",
        "  if (sum(mano)==21):\n",
        "    count = count +1\n",
        "    contc=contc + len(mano)\n",
        "\n",
        "\n",
        "print(\"La probabiliad de obtener 21 es\", count/n, \"La cantidad promedio de cartas necesarias es :\", contc/count)\n"
      ],
      "execution_count": null,
      "outputs": [
        {
          "output_type": "stream",
          "text": [
            "La probabiliad de obtener 21 es 0.0883026 La cantidad promedio de cartas necesarias es : 4.075729366972207\n"
          ],
          "name": "stdout"
        }
      ]
    },
    {
      "cell_type": "code",
      "metadata": {
        "colab_type": "code",
        "id": "G9ZhuZYGYdKK",
        "colab": {
          "base_uri": "https://localhost:8080/",
          "height": 299
        },
        "outputId": "a38cfb0f-4936-4197-c74d-805e1dc827bc"
      },
      "source": [
        "import random \n",
        "import matplotlib.pyplot as plt\n",
        "import numpy as np\n",
        "\n",
        "\"\"\"Baraja de Poker\"\"\"\n",
        "n=10000\n",
        "count = 0\n",
        "contc= 0\n",
        "cantC=[]\n",
        "for i in range(n):\n",
        "  bar = [1,2,3,4,6,8,9,10,11,12,13,1,2,3,4,5,6,8,9,10,11,12,13,1,2,3,4,5,6,7,8,9,10,11,12,13,1,2,3,4,5,6,7,8,9,10,11,12,13]\n",
        "  mano=[7,7,5]\n",
        "  bar2=[]\n",
        "  for i in range(int(len(bar)/2)):\n",
        "    bar2.append(random.choice(bar))\n",
        "  while (sum(mano)<21):\n",
        "    carta= random.choice(bar2)\n",
        "    mano.append(carta)\n",
        "    bar2.remove(carta)\n",
        "  if (sum(mano)==21):\n",
        "    count = count +1\n",
        "    contc=contc + len(mano)\n",
        "    cantC.append(len(mano))\n",
        "\n",
        "\n",
        "print(\"La probabiliad de obtener 21 es\", count/n, \"La cantidad promedio de cartas necesarias es :\", contc/count)\n",
        "\n",
        "num_bins=max(cantC)-min(cantC)\n",
        "plt.hist(cantC,num_bins,facecolor='red')\n"
      ],
      "execution_count": null,
      "outputs": [
        {
          "output_type": "stream",
          "text": [
            "La probabiliad de obtener 21 es 0.0896 La cantidad promedio de cartas necesarias es : 4.077008928571429\n"
          ],
          "name": "stdout"
        },
        {
          "output_type": "execute_result",
          "data": {
            "text/plain": [
              "(array([896.]), array([4., 5.]), <a list of 1 Patch objects>)"
            ]
          },
          "metadata": {
            "tags": []
          },
          "execution_count": 13
        },
        {
          "output_type": "display_data",
          "data": {
            "image/png": "[encoded data removed]",
            "text/plain": [
              "<Figure size 432x288 with 1 Axes>"
            ]
          },
          "metadata": {
            "tags": [],
            "needs_background": "light"
          }
        }
      ]
    },
    {
      "cell_type": "markdown",
      "metadata": {
        "id": "aSJErJ-bZQM4",
        "colab_type": "text"
      },
      "source": [
        "PUNTO 4"
      ]
    },
    {
      "cell_type": "code",
      "metadata": {
        "colab_type": "code",
        "id": "IefdJG-JcyTV",
        "colab": {
          "base_uri": "https://localhost:8080/",
          "height": 299
        },
        "outputId": "2c562f7c-af64-4dce-a97a-a0438820a29c"
      },
      "source": [
        "import random \n",
        "import numpy as np\n",
        "import matplotlib.pyplot as plt\n",
        "\n",
        "\"\"\"Baraja Española   12 cartas restantes\"\"\"\n",
        "n=10000\n",
        "count = 0\n",
        "contc= 0\n",
        "cantC=[]\n",
        "for i in range(n):\n",
        "  bar = [3,4,6,8,9,10,11,12,3,4,5,6,8,9,10,11,12,3,4,5,6,7,8,9,10,11,12,3,4,5,6,7,8,9,10,11,12]\n",
        "  mano=[7,7,5]\n",
        "  bar2=[1,1,1,1,2,2,2,2]\n",
        "  for j in range(4):\n",
        "    bar2.append(random.choice(bar))\n",
        "  while (sum(mano)<21):\n",
        "    carta= random.choice(bar2)\n",
        "    mano.append(carta)\n",
        "    bar2.remove(carta)\n",
        "  if (sum(mano)==21):\n",
        "    count = count + 1\n",
        "    contc = contc + len(mano)\n",
        "    cantC.append(len(mano))\n",
        "\n",
        "print(\"La probabiliad de obtener 21 es\", count/n, \"La cantidad promedio de cartas necesarias es :\", contc/count)\n",
        "\n",
        "num_bins=max(cantC)-min(cantC)\n",
        "plt.hist(cantC,num_bins,facecolor='red')"
      ],
      "execution_count": null,
      "outputs": [
        {
          "output_type": "stream",
          "text": [
            "La probabiliad de obtener 21 es 0.4269 La cantidad promedio de cartas necesarias es : 4.218552354181307\n"
          ],
          "name": "stdout"
        },
        {
          "output_type": "execute_result",
          "data": {
            "text/plain": [
              "(array([4269.]), array([4., 5.]), <a list of 1 Patch objects>)"
            ]
          },
          "metadata": {
            "tags": []
          },
          "execution_count": 25
        },
        {
          "output_type": "display_data",
          "data": {
            "image/png": "[encoded data removed]",
            "text/plain": [
              "<Figure size 432x288 with 1 Axes>"
            ]
          },
          "metadata": {
            "tags": [],
            "needs_background": "light"
          }
        }
      ]
    },
    {
      "cell_type": "code",
      "metadata": {
        "colab_type": "code",
        "id": "V7AP1OZTd1WB",
        "colab": {
          "base_uri": "https://localhost:8080/",
          "height": 302
        },
        "outputId": "2d4ca382-576d-40c8-865d-0d1645c5f536"
      },
      "source": [
        "import random \n",
        "import numpy as np\n",
        "import matplotlib.pyplot as plt\n",
        "\n",
        "\"\"\"Baraja Española 10 cartas restantes Hot\"\"\"\n",
        "n=10000\n",
        "count = 0\n",
        "contc= 0\n",
        "cantC=[]\n",
        "for i in range(n):\n",
        "  bar = [3,4,6,8,9,10,11,12,3,4,5,6,8,9,10,11,12,3,4,5,6,7,8,9,10,11,12,3,4,5,6,7,8,9,10,11,12]\n",
        "  mano=[7,7,5]\n",
        "  bar2=[1,1,1,1,2,2,2,2]\n",
        "  for j in range(2):\n",
        "    bar2.append(random.choice(bar))\n",
        "  while (sum(mano)<21):\n",
        "    carta= random.choice(bar2)\n",
        "    mano.append(carta)\n",
        "    bar2.remove(carta)\n",
        "  if (sum(mano)==21):\n",
        "    count = count + 1\n",
        "    contc = contc + len(mano)\n",
        "    cantC.append(len(mano))\n",
        "\n",
        "print(\"La probabiliad de obtener 21 es\", count/n, \"La cantidad promedio de cartas necesarias es :\", contc/count)\n",
        "\n",
        "num_bins=max(cantC)-min(cantC)\n",
        "plt.hist(cantC,num_bins,facecolor='red')"
      ],
      "execution_count": null,
      "outputs": [
        {
          "output_type": "stream",
          "text": [
            "La probabiliad de obtener 21 es 0.0841 La cantidad promedio de cartas necesarias es : 4.0\n"
          ],
          "name": "stdout"
        },
        {
          "output_type": "execute_result",
          "data": {
            "text/plain": [
              "(array([1.]), array([3.5, 4.5]), <a list of 1 Patch objects>)"
            ]
          },
          "metadata": {
            "tags": []
          },
          "execution_count": 8
        },
        {
          "output_type": "display_data",
          "data": {
            "image/png": "[encoded data removed]",
            "text/plain": [
              "<Figure size 432x288 with 1 Axes>"
            ]
          },
          "metadata": {
            "tags": [],
            "needs_background": "light"
          }
        }
      ]
    },
    {
      "cell_type": "code",
      "metadata": {
        "id": "wc2Ntm4-DW7F",
        "colab_type": "code",
        "colab": {}
      },
      "source": [
        "import random \n",
        "import numpy as np\n",
        "import matplotlib.pyplot as plt\n",
        "\n",
        "\"\"\"Baraja Española 12 cartas restantes Cold\"\"\"\n",
        "n=10000\n",
        "count = 0\n",
        "contc= 0\n",
        "cantC=[]\n",
        "for i in range(n):\n",
        "  bar = [3,4,6,8,9,10,11,12,3,4,5,6,8,9,10,11,12,3,4,5,6,7,8,9,10,11,12,3,4,5,6,7,8,9,10,11,12]\n",
        "  mano=[7,7,5]\n",
        "  bar2=[2]\n",
        "  for j in range(11):\n",
        "    bar2.append(random.choice(bar))\n",
        "  while (sum(mano)<21):\n",
        "    carta= random.choice(bar2)\n",
        "    mano.append(carta)\n",
        "    bar2.remove(carta)\n",
        "  if (sum(mano)==21):\n",
        "    count = count + 1\n",
        "    contc = contc + len(mano)\n",
        "    cantC.append(len(mano))\n",
        "\n",
        "print(\"La probabiliad de obtener 21 es\", count/n, \"La cantidad promedio de cartas necesarias es :\", contc/count)\n",
        "\n",
        "num_bins=1\n",
        "plt.hist(cantC,num_bins,facecolor='blue', density=True)"
      ],
      "execution_count": null,
      "outputs": []
    },
    {
      "cell_type": "code",
      "metadata": {
        "id": "8IKpq6H1DZq0",
        "colab_type": "code",
        "colab": {}
      },
      "source": [
        "import random \n",
        "import numpy as np\n",
        "import matplotlib.pyplot as plt\n",
        "\n",
        "\"\"\"Baraja Española 10 cartas restantes Cold\"\"\"\n",
        "n=10000\n",
        "count = 0\n",
        "contc= 0\n",
        "cantC=[]\n",
        "for i in range(n):\n",
        "  bar = [3,4,6,8,9,10,11,12,3,4,5,6,8,9,10,11,12,3,4,5,6,7,8,9,10,11,12,3,4,5,6,7,8,9,10,11,12]\n",
        "  mano=[7,7,5]\n",
        "  bar2=[2]\n",
        "  for j in range(9):\n",
        "    bar2.append(random.choice(bar))\n",
        "  while (sum(mano)<21):\n",
        "    carta= random.choice(bar2)\n",
        "    mano.append(carta)\n",
        "    bar2.remove(carta)\n",
        "  if (sum(mano)==21):\n",
        "    count = count + 1\n",
        "    contc = contc + len(mano)\n",
        "    cantC.append(len(mano))\n",
        "\n",
        "print(\"La probabiliad de obtener 21 es\", count/n, \"La cantidad promedio de cartas necesarias es :\", contc/count)\n",
        "\n",
        "num_bins=1\n",
        "plt.hist(cantC,num_bins,facecolor='blue', density=True)"
      ],
      "execution_count": null,
      "outputs": []
    },
    {
      "cell_type": "code",
      "metadata": {
        "id": "lmKvA_XeDcpU",
        "colab_type": "code",
        "colab": {}
      },
      "source": [
        "import random \n",
        "import numpy as np\n",
        "import matplotlib.pyplot as plt\n",
        "\n",
        "\"\"\"Baraja Poker 12 cartas restantes Hot\"\"\"\n",
        "n=10000\n",
        "count = 0\n",
        "contc= 0\n",
        "cantC=[]\n",
        "for i in range(n):\n",
        "  bar = [1,2,3,4,6,8,9,10,11,12,13,1,2,3,4,5,6,8,9,10,11,12,13,1,2,3,4,5,6,7,8,9,10,11,12,13,1,2,3,4,5,6,7,8,9,10,11,12,13]\n",
        "  mano=[7,7,5]\n",
        "  bar2=[1,1,1,1,2,2,2,2]\n",
        "  for j in range(11):\n",
        "    bar2.append(random.choice(bar))\n",
        "  while (sum(mano)<21):\n",
        "    carta= random.choice(bar2)\n",
        "    mano.append(carta)\n",
        "    bar2.remove(carta)\n",
        "  if (sum(mano)==21):\n",
        "    count = count + 1\n",
        "    contc = contc + len(mano)\n",
        "    cantC.append(len(mano))\n",
        "\n",
        "print(\"La probabiliad de obtener 21 es\", count/n, \"La cantidad promedio de cartas necesarias es :\", contc/count)\n",
        "\n",
        "num_bins=1\n",
        "plt.hist(cantC,num_bins,facecolor='red', density=True)"
      ],
      "execution_count": null,
      "outputs": []
    },
    {
      "cell_type": "code",
      "metadata": {
        "id": "exP9JNOHDgIL",
        "colab_type": "code",
        "colab": {}
      },
      "source": [
        "import random \n",
        "import numpy as np\n",
        "import matplotlib.pyplot as plt\n",
        "\n",
        "\"\"\"Baraja Poker 10 cartas restantes Hot\"\"\"\n",
        "n=10000\n",
        "count = 0\n",
        "contc= 0\n",
        "cantC=[]\n",
        "for i in range(n):\n",
        "  bar = [1,2,3,4,6,8,9,10,11,12,13,1,2,3,4,5,6,8,9,10,11,12,13,1,2,3,4,5,6,7,8,9,10,11,12,13,1,2,3,4,5,6,7,8,9,10,11,12,13]\n",
        "  mano=[7,7,5]\n",
        "  bar2=[1,1,1,1,2,2,2,2]\n",
        "  for j in range(2):\n",
        "    bar2.append(random.choice(bar))\n",
        "  while (sum(mano)<21):\n",
        "    carta= random.choice(bar2)\n",
        "    mano.append(carta)\n",
        "    bar2.remove(carta)\n",
        "  if (sum(mano)==21):\n",
        "    count = count + 1\n",
        "    contc = contc + len(mano)\n",
        "    cantC.append(len(mano))\n",
        "\n",
        "print(\"La probabiliad de obtener 21 es\", count/n, \"La cantidad promedio de cartas necesarias es :\", contc/count)\n",
        "\n",
        "num_bins=1\n",
        "plt.hist(cantC,num_bins,facecolor='red', density=True)"
      ],
      "execution_count": null,
      "outputs": []
    },
    {
      "cell_type": "code",
      "metadata": {
        "id": "_7nSf6v_Dijs",
        "colab_type": "code",
        "colab": {}
      },
      "source": [
        "import random \n",
        "import numpy as np\n",
        "import matplotlib.pyplot as plt\n",
        "\n",
        "\"\"\"Baraja Poker 12 cartas restantes Cold\"\"\"\n",
        "n=10000\n",
        "count = 0\n",
        "contc= 0\n",
        "cantC=[]\n",
        "for i in range(n):\n",
        "  bar = [1,2,3,4,6,8,9,10,11,12,13,1,2,3,4,5,6,8,9,10,11,12,13,1,2,3,4,5,6,7,8,9,10,11,12,13,1,2,3,4,5,6,7,8,9,10,11,12,13]\n",
        "  mano=[7,7,5]\n",
        "  bar2=[2]\n",
        "  for j in range(10):\n",
        "    bar2.append(random.choice(bar))\n",
        "  while (sum(mano)<21):\n",
        "    carta= random.choice(bar2)\n",
        "    mano.append(carta)\n",
        "    bar2.remove(carta)\n",
        "  if (sum(mano)==21):\n",
        "    count = count + 1\n",
        "    contc = contc + len(mano)\n",
        "    cantC.append(len(mano))\n",
        "\n",
        "print(\"La probabiliad de obtener 21 es\", count/n, \"La cantidad promedio de cartas necesarias es :\", contc/count)\n",
        "\n",
        "num_bins=1\n",
        "plt.hist(cantC,num_bins,facecolor='blue', density=True)"
      ],
      "execution_count": null,
      "outputs": []
    },
    {
      "cell_type": "code",
      "metadata": {
        "id": "6Y9GMcU-Dml0",
        "colab_type": "code",
        "colab": {}
      },
      "source": [
        "import random \n",
        "import numpy as np\n",
        "import matplotlib.pyplot as plt\n",
        "\n",
        "\"\"\"Baraja Poker 10 cartas restantes Cold\"\"\"\n",
        "n=10000\n",
        "count = 0\n",
        "contc= 0\n",
        "cantC=[]\n",
        "for i in range(n):\n",
        "  bar = [1,2,3,4,6,8,9,10,11,12,13,1,2,3,4,5,6,8,9,10,11,12,13,1,2,3,4,5,6,7,8,9,10,11,12,13,1,2,3,4,5,6,7,8,9,10,11,12,13]\n",
        "  mano=[7,7,5]\n",
        "  bar2=[2]\n",
        "  for j in range(8):\n",
        "    bar2.append(random.choice(bar))\n",
        "  while (sum(mano)<21):\n",
        "    carta= random.choice(bar2)\n",
        "    mano.append(carta)\n",
        "    bar2.remove(carta)\n",
        "  if (sum(mano)==21):\n",
        "    count = count + 1\n",
        "    contc = contc + len(mano)\n",
        "    cantC.append(len(mano))\n",
        "\n",
        "print(\"La probabiliad de obtener 21 es\", count/n, \"La cantidad promedio de cartas necesarias es :\", contc/count)\n",
        "\n",
        "num_bins=1\n",
        "plt.hist(cantC,num_bins,facecolor='blue', density=True)"
      ],
      "execution_count": null,
      "outputs": []
    },
    {
      "cell_type": "markdown",
      "metadata": {
        "id": "4Q6Wlru7ruIB",
        "colab_type": "text"
      },
      "source": [
        "PUNTO 5\n"
      ]
    },
    {
      "cell_type": "code",
      "metadata": {
        "colab_type": "code",
        "id": "OF3_bpCD4mKI",
        "colab": {}
      },
      "source": [
        "import random \n",
        "import numpy as np\n",
        "import matplotlib.pyplot as plt\n",
        "\n",
        "\"\"\"Baraja Española   10 cartas restantes o mazo completo\"\"\"\n",
        "n=10000000\n",
        "count = 0\n",
        "contc= 0\n",
        "flag=[0,1]\n",
        "for i in range(n):\n",
        "  dinero=0\n",
        "  ganancia=0\n",
        "  for a in range(600):\n",
        "    bar = [3,4,6,8,9,10,11,12,3,4,5,6,8,9,10,11,12,3,4,5,6,7,8,9,10,11,12,3,4,5,6,7,8,9,10,11,12]\n",
        "    bar3 = [1,2,3,4,6,8,9,10,11,12,1,2,3,4,5,6,8,9,10,11,12,1,2,3,4,5,6,7,8,9,10,11,12,1,2,3,4,5,6,7,8,9,10,11,12]\n",
        "    mano=[7,7,5]\n",
        "    if (bool(random.choice(flag))):\n",
        "      dinero=1000\n",
        "      bar2=[2]\n",
        "      for j in range(9):\n",
        "        bar2.append(random.choice(bar))\n",
        "    else:\n",
        "      dinero=10\n",
        "      for j in range(44):\n",
        "        bar2.append(random.choice(bar3))\n",
        "    while (sum(mano)<21):\n",
        "      carta= random.choice(bar2)\n",
        "      mano.append(carta)\n",
        "      bar2.remove(carta)\n",
        "    if (sum(mano)==21):\n",
        "      count = count + 1\n",
        "      contc = contc + len(mano)\n",
        "      ganancia=ganancia+dinero\n",
        "    elif (sum(mano)>21):\n",
        "      ganancia=ganancia-dinero\n",
        "\n",
        "print(\"La probabiliad de obtener 21 es\", count/(n*600), \"La cantidad promedio de cartas necesarias es :\", contc/count)\n",
        "print(\"Ben gana en promedio:,\", ganancia/n, \" el fin de semana\")\n"
      ],
      "execution_count": null,
      "outputs": []
    },
    {
      "cell_type": "code",
      "metadata": {
        "colab_type": "code",
        "id": "mrWJP_Mpr68J",
        "colab": {
          "base_uri": "https://localhost:8080/",
          "height": 316
        },
        "outputId": "47ad710b-db21-4e0e-f02a-eb33ebb88068"
      },
      "source": [
        "import random \n",
        "import numpy as np\n",
        "import matplotlib.pyplot as plt\n",
        "\n",
        "\"\"\"Baraja Española   10 cartas restantes o mazo completo\"\"\"\n",
        "n=10000\n",
        "count = 0\n",
        "contc= 0\n",
        "cantC=[]\n",
        "flag=[0,1]\n",
        "for i in range(n):\n",
        "  dinero=0\n",
        "  ganancia=0\n",
        "  for a in range(600):\n",
        "    bar = [3,4,6,8,9,10,11,12,3,4,5,6,8,9,10,11,12,3,4,5,6,7,8,9,10,11,12,3,4,5,6,7,8,9,10,11,12]\n",
        "    bar3 = [1,2,3,4,6,8,9,10,11,12,1,2,3,4,5,6,8,9,10,11,12,1,2,3,4,5,6,7,8,9,10,11,12,1,2,3,4,5,6,7,8,9,10,11,12]\n",
        "    mano=[7,7,5]\n",
        "    if (bool(random.choice(flag))):\n",
        "      dinero=1000\n",
        "      bar2=[2]\n",
        "      for j in range(9):\n",
        "        bar2.append(random.choice(bar))\n",
        "    else:\n",
        "      dinero=10\n",
        "      for j in range(44):\n",
        "        bar2.append(random.choice(bar3))\n",
        "    while (sum(mano)<21):\n",
        "      carta= random.choice(bar2)\n",
        "      mano.append(carta)\n",
        "      bar2.remove(carta)\n",
        "    if (sum(mano)==21):\n",
        "      count = count + 1\n",
        "      contc = contc + len(mano)\n",
        "      ganancia=ganancia+dinero\n",
        "      cantC.append(len(mano))\n",
        "    elif (sum(mano)>21):\n",
        "      ganancia=ganancia-dinero\n",
        "\n",
        "print(\"La probabiliad de obtener 21 es\", count/(n*600), \"La cantidad promedio de cartas necesarias es :\", contc/count)\n",
        "print(\"Ben gana en promedio:,\", ganancia/n, \" el fin de semana\")\n",
        "\n",
        "num_bins=1\n",
        "plt.hist(cantC,num_bins,facecolor='green')"
      ],
      "execution_count": null,
      "outputs": [
        {
          "output_type": "stream",
          "text": [
            "La probabiliad de obtener 21 es 0.09815716666666667 La cantidad promedio de cartas necesarias es : 4.0311727960091215\n",
            "Ben gana en promedio:, -26.036  el fin de semana\n"
          ],
          "name": "stdout"
        },
        {
          "output_type": "execute_result",
          "data": {
            "text/plain": [
              "(array([588943.]), array([4., 5.]), <a list of 1 Patch objects>)"
            ]
          },
          "metadata": {
            "tags": []
          },
          "execution_count": 8
        },
        {
          "output_type": "display_data",
          "data": {
            "image/png": "[encoded data removed]",
            "text/plain": [
              "<Figure size 432x288 with 1 Axes>"
            ]
          },
          "metadata": {
            "tags": [],
            "needs_background": "light"
          }
        }
      ]
    },
    {
      "cell_type": "code",
      "metadata": {
        "colab_type": "code",
        "id": "9p7Ud2lD4yLM",
        "colab": {
          "base_uri": "https://localhost:8080/",
          "height": 320
        },
        "outputId": "e8836dc4-d286-4ea2-daab-0689ec35e442"
      },
      "source": [
        "import random \n",
        "import numpy as np\n",
        "import matplotlib.pyplot as plt\n",
        "\n",
        "\"\"\"Baraja Poker  10 cartas restantes o mazo completo\"\"\"\n",
        "n=10000000\n",
        "count = 0\n",
        "contc= 0\n",
        "flag=[0,1]\n",
        "for i in range(n):\n",
        "  dinero=0\n",
        "  ganancia=0\n",
        "  for a in range(600):\n",
        "    bar = [3,4,6,8,9,10,11,12,13,3,4,5,6,8,9,10,11,12,13,3,4,5,6,7,8,9,10,11,12,13,3,4,5,6,7,8,9,10,11,12,13]\n",
        "    bar3 = [1,2,3,4,6,8,9,10,11,12,1,2,3,4,5,6,8,9,10,11,12,13,1,2,3,4,5,6,7,8,9,10,11,12,13,1,2,3,4,5,6,7,8,9,10,11,12,13]\n",
        "    mano=[7,7,5]\n",
        "    if (bool(random.choice(flag))):\n",
        "      dinero=1000\n",
        "      bar2=[2]\n",
        "      for j in range(9):\n",
        "        bar2.append(random.choice(bar))\n",
        "    else:\n",
        "      dinero=10\n",
        "      for j in range(48):\n",
        "        bar2.append(random.choice(bar3))\n",
        "    while (sum(mano)<21):\n",
        "      carta= random.choice(bar2)\n",
        "      mano.append(carta)\n",
        "      bar2.remove(carta)\n",
        "    if (sum(mano)==21):\n",
        "      count = count + 1\n",
        "      contc = contc + len(mano)\n",
        "      ganancia=ganancia+dinero\n",
        "    elif (sum(mano)>21):\n",
        "      ganancia=ganancia-dinero\n",
        "\n",
        "print(\"La probabiliad de obtener 21 es\", count/(n*600), \"La cantidad promedio de cartas necesarias es :\", contc/count)\n",
        "print(\"Ben gana en promedio:,\", ganancia/n, \" el fin de semana\")\n"
      ],
      "execution_count": null,
      "outputs": [
        {
          "output_type": "stream",
          "text": [
            "La probabiliad de obtener 21 es 0.09524683333333334 La cantidad promedio de cartas necesarias es : 4.02865362103027\n",
            "Ben gana en promedio:, -25.05  el fin de semana\n"
          ],
          "name": "stdout"
        },
        {
          "output_type": "execute_result",
          "data": {
            "text/plain": [
              "(array([571481.]), array([4., 5.]), <a list of 1 Patch objects>)"
            ]
          },
          "metadata": {
            "tags": []
          },
          "execution_count": 11
        },
        {
          "output_type": "display_data",
          "data": {
            "image/png": "[encoded data removed]",
            "text/plain": [
              "<Figure size 432x288 with 1 Axes>"
            ]
          },
          "metadata": {
            "tags": [],
            "needs_background": "light"
          }
        }
      ]
    },
    {
      "cell_type": "code",
      "metadata": {
        "colab_type": "code",
        "id": "xxz6e9Sox191",
        "colab": {
          "base_uri": "https://localhost:8080/",
          "height": 320
        },
        "outputId": "e8836dc4-d286-4ea2-daab-0689ec35e442"
      },
      "source": [
        "import random \n",
        "import numpy as np\n",
        "import matplotlib.pyplot as plt\n",
        "\n",
        "\"\"\"Baraja Poker  10 cartas restantes o mazo completo\"\"\"\n",
        "n=10000\n",
        "count = 0\n",
        "contc= 0\n",
        "cantC=[]\n",
        "flag=[0,1]\n",
        "for i in range(n):\n",
        "  dinero=0\n",
        "  ganancia=0\n",
        "  for a in range(600):\n",
        "    bar = [3,4,6,8,9,10,11,12,13,3,4,5,6,8,9,10,11,12,13,3,4,5,6,7,8,9,10,11,12,13,3,4,5,6,7,8,9,10,11,12,13]\n",
        "    bar3 = [1,2,3,4,6,8,9,10,11,12,1,2,3,4,5,6,8,9,10,11,12,13,1,2,3,4,5,6,7,8,9,10,11,12,13,1,2,3,4,5,6,7,8,9,10,11,12,13]\n",
        "    mano=[7,7,5]\n",
        "    if (bool(random.choice(flag))):\n",
        "      dinero=1000\n",
        "      bar2=[2]\n",
        "      for j in range(9):\n",
        "        bar2.append(random.choice(bar))\n",
        "    else:\n",
        "      dinero=10\n",
        "      for j in range(48):\n",
        "        bar2.append(random.choice(bar3))\n",
        "    while (sum(mano)<21):\n",
        "      carta= random.choice(bar2)\n",
        "      mano.append(carta)\n",
        "      bar2.remove(carta)\n",
        "    if (sum(mano)==21):\n",
        "      count = count + 1\n",
        "      contc = contc + len(mano)\n",
        "      ganancia=ganancia+dinero\n",
        "      cantC.append(len(mano))\n",
        "    elif (sum(mano)>21):\n",
        "      ganancia=ganancia-dinero\n",
        "\n",
        "print(\"La probabiliad de obtener 21 es\", count/(n*600), \"La cantidad promedio de cartas necesarias es :\", contc/count)\n",
        "print(\"Ben gana en promedio:,\", ganancia/n, \" el fin de semana\")\n",
        "\n",
        "num_bins=1\n",
        "plt.hist(cantC,num_bins,facecolor='green')"
      ],
      "execution_count": null,
      "outputs": [
        {
          "output_type": "stream",
          "text": [
            "La probabiliad de obtener 21 es 0.09524683333333334 La cantidad promedio de cartas necesarias es : 4.02865362103027\n",
            "Ben gana en promedio:, -25.05  el fin de semana\n"
          ],
          "name": "stdout"
        },
        {
          "output_type": "execute_result",
          "data": {
            "text/plain": [
              "(array([571481.]), array([4., 5.]), <a list of 1 Patch objects>)"
            ]
          },
          "metadata": {
            "tags": []
          },
          "execution_count": 11
        },
        {
          "output_type": "display_data",
          "data": {
            "image/png": "[encoded data removed]",
            "text/plain": [
              "<Figure size 432x288 with 1 Axes>"
            ]
          },
          "metadata": {
            "tags": [],
            "needs_background": "light"
          }
        }
      ]
    },
    {
      "cell_type": "markdown",
      "metadata": {
        "id": "UN7SUGE4ryt5",
        "colab_type": "text"
      },
      "source": [
        "Punto 6\n"
      ]
    },
    {
      "cell_type": "code",
      "metadata": {
        "colab_type": "code",
        "id": "RGdck7aEzD_9",
        "colab": {
          "base_uri": "https://localhost:8080/",
          "height": 231
        },
        "outputId": "0604922d-634f-4e32-ee7d-5e8e45d8e5ec"
      },
      "source": [
        "import random \n",
        "import numpy as np\n",
        "import matplotlib.pyplot as plt\n",
        "\n",
        "\"\"\"Baraja Española  12 10 o 8 cartas restantes\"\"\"\n",
        "n=10000000\n",
        "count = 0\n",
        "contc= 0\n",
        "flag=[0,1,3]\n",
        "for i in range(n):\n",
        "  dinero=0\n",
        "  ganancia=0\n",
        "  for a in range(600):\n",
        "    bar = [3,4,6,8,9,10,11,12,3,4,5,6,8,9,10,11,12,3,4,5,6,7,8,9,10,11,12,3,4,5,6,7,8,9,10,11,12]\n",
        "    mano=[7,7,5]\n",
        "    bar2=[1,1,1,1,2,2,2,2]\n",
        "    dinero=1000\n",
        "    fl=random.choice(flag)\n",
        "    if (fl==0):\n",
        "      dinero=10\n",
        "      for j in range(4):\n",
        "        bar2.append(random.choice(bar))\n",
        "    elif (fl==1):\n",
        "      dinero=100\n",
        "      for j in range(2):\n",
        "        bar2.append(random.choice(bar))\n",
        "    while (sum(mano)<21):\n",
        "      carta= random.choice(bar2)\n",
        "      mano.append(carta)\n",
        "      bar2.remove(carta)\n",
        "    if (sum(mano)==21):\n",
        "      count = count + 1\n",
        "      contc = contc + len(mano)\n",
        "      ganancia=ganancia+dinero\n",
        "    elif (sum(mano)>21):\n",
        "      ganancia=ganancia-dinero\n",
        "\n",
        "print(\"La probabiliad de obtener 21 es\", count/(n*600), \"La cantidad promedio de cartas necesarias es :\", contc/count)\n",
        "print(\"Ben gana en promedio:,\", ganancia/n, \" el fin de semana\")\n"
      ],
      "execution_count": null,
      "outputs": [
        {
          "output_type": "error",
          "ename": "KeyboardInterrupt",
          "evalue": "ignored",
          "traceback": [
            "\u001b[0;31m---------------------------------------------------------------------------\u001b[0m",
            "\u001b[0;31mKeyboardInterrupt\u001b[0m                         Traceback (most recent call last)",
            "\u001b[0;32m<ipython-input-14-0736db77aaf4>\u001b[0m in \u001b[0;36m<module>\u001b[0;34m()\u001b[0m\n\u001b[1;32m     18\u001b[0m     \u001b[0mfl\u001b[0m\u001b[0;34m=\u001b[0m\u001b[0mrandom\u001b[0m\u001b[0;34m.\u001b[0m\u001b[0mchoice\u001b[0m\u001b[0;34m(\u001b[0m\u001b[0mflag\u001b[0m\u001b[0;34m)\u001b[0m\u001b[0;34m\u001b[0m\u001b[0;34m\u001b[0m\u001b[0m\n\u001b[1;32m     19\u001b[0m     \u001b[0;32mif\u001b[0m \u001b[0;34m(\u001b[0m\u001b[0mfl\u001b[0m\u001b[0;34m==\u001b[0m\u001b[0;36m0\u001b[0m\u001b[0;34m)\u001b[0m\u001b[0;34m:\u001b[0m\u001b[0;34m\u001b[0m\u001b[0;34m\u001b[0m\u001b[0m\n\u001b[0;32m---> 20\u001b[0;31m       \u001b[0mdinero\u001b[0m\u001b[0;34m=\u001b[0m\u001b[0;36m10\u001b[0m\u001b[0;34m\u001b[0m\u001b[0;34m\u001b[0m\u001b[0m\n\u001b[0m\u001b[1;32m     21\u001b[0m       \u001b[0;32mfor\u001b[0m \u001b[0mj\u001b[0m \u001b[0;32min\u001b[0m \u001b[0mrange\u001b[0m\u001b[0;34m(\u001b[0m\u001b[0;36m4\u001b[0m\u001b[0;34m)\u001b[0m\u001b[0;34m:\u001b[0m\u001b[0;34m\u001b[0m\u001b[0;34m\u001b[0m\u001b[0m\n\u001b[1;32m     22\u001b[0m         \u001b[0mbar2\u001b[0m\u001b[0;34m.\u001b[0m\u001b[0mappend\u001b[0m\u001b[0;34m(\u001b[0m\u001b[0mrandom\u001b[0m\u001b[0;34m.\u001b[0m\u001b[0mchoice\u001b[0m\u001b[0;34m(\u001b[0m\u001b[0mbar\u001b[0m\u001b[0;34m)\u001b[0m\u001b[0;34m)\u001b[0m\u001b[0;34m\u001b[0m\u001b[0;34m\u001b[0m\u001b[0m\n",
            "\u001b[0;31mKeyboardInterrupt\u001b[0m: "
          ]
        }
      ]
    },
    {
      "cell_type": "code",
      "metadata": {
        "colab_type": "code",
        "id": "KEM4VIUu1nl2",
        "colab": {
          "base_uri": "https://localhost:8080/",
          "height": 327
        },
        "outputId": "a24ca58d-978d-4406-b69c-cea276502d00"
      },
      "source": [
        "import random \n",
        "import numpy as np\n",
        "import matplotlib.pyplot as plt\n",
        "\n",
        "\"\"\"Baraja de Poker  12 10 o 8 cartas restantes\"\"\"\n",
        "n=10000000\n",
        "count = 0\n",
        "contc= 0\n",
        "flag=[0,1,3]\n",
        "for i in range(n):\n",
        "  dinero=0\n",
        "  ganancia=0\n",
        "  for a in range(600):\n",
        "    bar = [3,4,6,8,9,10,11,12,13,3,4,5,6,8,9,10,11,12,13,3,4,5,6,7,8,9,10,11,12,13,3,4,5,6,7,8,9,10,11,12,13]\n",
        "    mano=[7,7,5]\n",
        "    bar2=[1,1,1,1,2,2,2,2]\n",
        "    dinero=1000\n",
        "    fl=random.choice(flag)\n",
        "    if (fl==0):\n",
        "      dinero=10\n",
        "      for j in range(4):\n",
        "        bar2.append(random.choice(bar))\n",
        "    elif (fl==1):\n",
        "      dinero=100\n",
        "      for j in range(2):\n",
        "        bar2.append(random.choice(bar))\n",
        "    while (sum(mano)<21):\n",
        "      carta= random.choice(bar2)\n",
        "      mano.append(carta)\n",
        "      bar2.remove(carta)\n",
        "    if (sum(mano)==21):\n",
        "      count = count + 1\n",
        "      contc = contc + len(mano)\n",
        "      ganancia=ganancia+dinero\n",
        "    elif (sum(mano)>21):\n",
        "      ganancia=ganancia-dinero\n",
        "\n",
        "print(\"La probabiliad de obtener 21 es\", count/(n*600), \"La cantidad promedio de cartas necesarias es :\", contc/count)\n",
        "print(\"Ben gana en promedio:,\", ganancia/n, \" el fin de semana\")\n"
      ],
      "execution_count": null,
      "outputs": [
        {
          "output_type": "stream",
          "text": [
            "La probabiliad de obtener 21 es 0.557743 La cantidad promedio de cartas necesarias es : 4.261869415363946\n",
            "Ben gana en promedio:, 8.415  el fin de semana\n"
          ],
          "name": "stdout"
        },
        {
          "output_type": "execute_result",
          "data": {
            "text/plain": [
              "(array([3346458.]), array([4., 5.]), <a list of 1 Patch objects>)"
            ]
          },
          "metadata": {
            "tags": []
          },
          "execution_count": 12
        },
        {
          "output_type": "display_data",
          "data": {
            "image/png": "[encoded data removed]",
            "text/plain": [
              "<Figure size 432x288 with 1 Axes>"
            ]
          },
          "metadata": {
            "tags": [],
            "needs_background": "light"
          }
        }
      ]
    }
  ]
}