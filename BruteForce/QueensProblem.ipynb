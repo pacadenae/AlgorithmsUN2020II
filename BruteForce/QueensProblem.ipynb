{
  "nbformat": 4,
  "nbformat_minor": 0,
  "metadata": {
    "colab": {
      "name": "QueensProblem.ipynb",
      "provenance": []
    },
    "kernelspec": {
      "name": "python3",
      "display_name": "Python 3"
    }
  },
  "cells": [
    {
      "cell_type": "markdown",
      "metadata": {
        "id": "E5DezQ3zZMQN"
      },
      "source": [
        "**Grupo 11**\r\n",
        "Paula Alejandra Cadena Espitia\r\n",
        "César Felipe Pineda Ortiz\r\n",
        "Maria Fernanda Carbonell Santos"
      ]
    },
    {
      "cell_type": "code",
      "metadata": {
        "id": "Wyadr7iQaCCB"
      },
      "source": [
        "import numpy as np"
      ],
      "execution_count": 1,
      "outputs": []
    },
    {
      "cell_type": "code",
      "metadata": {
        "colab": {
          "base_uri": "https://localhost:8080/"
        },
        "id": "m8jY1jdaZXVN",
        "outputId": "87ea5ccb-b995-43da-ef4f-4316a76512b1"
      },
      "source": [
        "row =[0,0,0,0,0,0,0,0]\r\n",
        "TC=0\r\n",
        "a=0\r\n",
        "b=0 \r\n",
        "line_counter=0\r\n",
        "def place(r,c):\r\n",
        "  for i in range(c):\r\n",
        "    if row[i]==r or np.abs(row[i]-r)== np.abs(i-c) :\r\n",
        "      return False\r\n",
        "  return True\r\n",
        "\r\n",
        "def backtrack(b,c,line_counter):\r\n",
        "  res=[b+1]\r\n",
        "  if c==8 and row[b]==a:\r\n",
        "    line_counter=line_counter+1\r\n",
        "    #print(line_counter, row[0] + 1)\r\n",
        "    #print('\\n')\r\n",
        "    for j in range(1,8):\r\n",
        "      res.append(row[j] + 1)\r\n",
        "    print(res)\r\n",
        "  for j in range(0,8):\r\n",
        "    if place(j, c):\r\n",
        "      row[c] = j \r\n",
        "      backtrack(b,c + 1,line_counter)\r\n",
        "\r\n",
        "print('Ocho Damas')\r\n",
        "print('Primera Dama en (1,1)')\r\n",
        "a=0\r\n",
        "b=0\r\n",
        "row =[0,0,0,0,0,0,0,0]    \r\n",
        "line_counter = 0\r\n",
        "print('SOLN COLUMN')\r\n",
        "print('1 2 3 4 5 6 7 8')\r\n",
        "backtrack(b,0,line_counter)   "
      ],
      "execution_count": 27,
      "outputs": [
        {
          "output_type": "stream",
          "text": [
            "Ocho Damas\n",
            "Primera Dama en (1,1)\n",
            "SOLN COLUMN\n",
            "1 2 3 4 5 6 7 8\n",
            "[1, 5, 8, 6, 3, 7, 2, 4]\n",
            "[1, 6, 8, 3, 7, 4, 2, 5]\n",
            "[1, 7, 4, 6, 8, 2, 5, 3]\n",
            "[1, 7, 5, 8, 2, 4, 6, 3]\n"
          ],
          "name": "stdout"
        }
      ]
    },
    {
      "cell_type": "code",
      "metadata": {
        "colab": {
          "base_uri": "https://localhost:8080/"
        },
        "id": "0FqkF6SDmSa9",
        "outputId": "fe1fbc6d-75d6-40c7-8b2d-e7b8b6d25af3"
      },
      "source": [
        "global N \r\n",
        "N = 4\r\n",
        "def printSolution(board): \r\n",
        "    for i in range(N): \r\n",
        "        for j in range(N): \r\n",
        "            print (board[i][j], end = \" \") \r\n",
        "        print() \r\n",
        "\r\n",
        "def isSafe(board, row, col): \r\n",
        "\r\n",
        "    for i in range(col): \r\n",
        "        if board[row][i] == 1: \r\n",
        "            return False\r\n",
        "\r\n",
        "    for i, j in zip(range(row, -1, -1),  \r\n",
        "                    range(col, -1, -1)): \r\n",
        "        if board[i][j] == 1: \r\n",
        "            return False\r\n",
        " \r\n",
        "    for i, j in zip(range(row, N, 1),  \r\n",
        "                    range(col, -1, -1)): \r\n",
        "        if board[i][j] == 1: \r\n",
        "            return False\r\n",
        "  \r\n",
        "    return True\r\n",
        "  \r\n",
        "def solveNQUtil(board, col): \r\n",
        "\r\n",
        "    if col >= N: \r\n",
        "        return True\r\n",
        "\r\n",
        "    for i in range(N): \r\n",
        "  \r\n",
        "        if isSafe(board, i, col): \r\n",
        "\r\n",
        "            board[i][col] = 1\r\n",
        "\r\n",
        "            if solveNQUtil(board, col + 1) == True: \r\n",
        "                return True\r\n",
        "\r\n",
        "            board[i][col] = 0\r\n",
        "\r\n",
        "    return False\r\n",
        "\r\n",
        "def solveNQ(): \r\n",
        "    board = [ [0, 0, 0, 0], \r\n",
        "              [0, 0, 0, 0], \r\n",
        "              [0, 0, 0, 0], \r\n",
        "              [0, 0, 0, 0] ] \r\n",
        "  \r\n",
        "    if solveNQUtil(board, 0) == False: \r\n",
        "        print (\"Solution does not exist\") \r\n",
        "        return False\r\n",
        "  \r\n",
        "    printSolution(board) \r\n",
        "    return True\r\n",
        "\r\n",
        "solveNQ() \r\n"
      ],
      "execution_count": 26,
      "outputs": [
        {
          "output_type": "stream",
          "text": [
            "0 0 1 0 \n",
            "1 0 0 0 \n",
            "0 0 0 1 \n",
            "0 1 0 0 \n"
          ],
          "name": "stdout"
        },
        {
          "output_type": "execute_result",
          "data": {
            "text/plain": [
              "True"
            ]
          },
          "metadata": {
            "tags": []
          },
          "execution_count": 26
        }
      ]
    }
  ]
}