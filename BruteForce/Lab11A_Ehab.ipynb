{
  "nbformat": 4,
  "nbformat_minor": 0,
  "metadata": {
    "colab": {
      "name": "Lab11A_Ehab",
      "provenance": [],
      "collapsed_sections": []
    },
    "kernelspec": {
      "name": "python3",
      "display_name": "Python 3"
    }
  },
  "cells": [
    {
      "cell_type": "markdown",
      "metadata": {
        "id": "Z95MuQExpE8D"
      },
      "source": [
        "**Grupo 11**\r\n",
        "Paula Alejandra Cadena Espitia\r\n",
        "César Felipe Pineda Ortiz\r\n",
        "Maria Fernanda Carbonell Santos"
      ]
    },
    {
      "cell_type": "markdown",
      "metadata": {
        "id": "b7QpOwUCqCD0"
      },
      "source": [
        "<img src=https://raw.githubusercontent.com//pacadenae/AlgorithmsUN2020II/master/imagenes/EhabJuez.jpg>"
      ]
    },
    {
      "cell_type": "code",
      "metadata": {
        "id": "Y6l-eqeMqA4e"
      },
      "source": [
        ""
      ],
      "execution_count": null,
      "outputs": []
    },
    {
      "cell_type": "code",
      "metadata": {
        "colab": {
          "base_uri": "https://localhost:8080/"
        },
        "id": "-X31LHb80gI-",
        "outputId": "33beced1-f433-4e72-ea6a-c4650df1c9df"
      },
      "source": [
        "x = int(input())\r\n",
        "if x==1:\r\n",
        "  print(-1)\r\n",
        "else:\r\n",
        "  a = int(x/2 +1)\r\n",
        "  b = 0\r\n",
        "  for i in range(2, int(a/2)):\r\n",
        "    if a%i == 0:\r\n",
        "      b = a/i\r\n",
        "      b= int(b) \r\n",
        "  if b==0:\r\n",
        "    b = a\r\n",
        "  print(a,b)\r\n"
      ],
      "execution_count": null,
      "outputs": [
        {
          "output_type": "stream",
          "text": [
            "100\n",
            "51 3\n"
          ],
          "name": "stdout"
        }
      ]
    },
    {
      "cell_type": "code",
      "metadata": {
        "colab": {
          "base_uri": "https://localhost:8080/"
        },
        "id": "aOX21PzGAvuE",
        "outputId": "1b49c2cc-4eed-4493-e871-26286acd9c69"
      },
      "source": [
        "x = int(input())\r\n",
        "b = 2\r\n",
        "if x==1:\r\n",
        "  print(-1)\r\n",
        "else:\r\n",
        "  if x%2==0:\r\n",
        "    a=x\r\n",
        "  else:\r\n",
        "    a= x-1\r\n",
        "\r\n",
        "  print(a,b)"
      ],
      "execution_count": null,
      "outputs": [
        {
          "output_type": "stream",
          "text": [
            "10\n",
            "10 2\n"
          ],
          "name": "stdout"
        }
      ]
    },
    {
      "cell_type": "code",
      "metadata": {
        "colab": {
          "base_uri": "https://localhost:8080/"
        },
        "id": "_pbTVaIgKjhs",
        "outputId": "395d7565-d52c-4a5b-d579-bc9ebf663c7c"
      },
      "source": [
        "x = int(input())\r\n",
        "if x == 1:\r\n",
        "  print(-1)\r\n",
        "else:\r\n",
        "  print(x,x)"
      ],
      "execution_count": null,
      "outputs": [
        {
          "output_type": "stream",
          "text": [
            "10\n",
            "10 10\n"
          ],
          "name": "stdout"
        }
      ]
    },
    {
      "cell_type": "code",
      "metadata": {
        "colab": {
          "base_uri": "https://localhost:8080/"
        },
        "id": "uptKD_ZENoX1",
        "outputId": "1d716f35-61cc-4950-be51-3ae0ed6009cd"
      },
      "source": [
        "x = int(input())\r\n",
        "if x==1:\r\n",
        "  print(-1)\r\n",
        "else:\r\n",
        "  if ( (int(x/2)+1) % 2)== 0:\r\n",
        "    print(int(x/2)+1, 2)\r\n",
        "  else:\r\n",
        "    print(int(x/2)+2, 2)"
      ],
      "execution_count": null,
      "outputs": [
        {
          "output_type": "stream",
          "text": [
            "10\n",
            "6 2\n"
          ],
          "name": "stdout"
        }
      ]
    }
  ]
}